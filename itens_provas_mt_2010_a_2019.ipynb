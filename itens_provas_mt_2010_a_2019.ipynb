{
 "cells": [
  {
   "cell_type": "markdown",
   "metadata": {},
   "source": [
    "# ENEM - Itens das provas de Matemática e Suas Tecnologias aplicadas entre os anos de 2010 a 2019"
   ]
  },
  {
   "cell_type": "markdown",
   "metadata": {},
   "source": [
    "## Configuração do notebook"
   ]
  },
  {
   "cell_type": "markdown",
   "metadata": {},
   "source": [
    "### Importação dos pacotes"
   ]
  },
  {
   "cell_type": "code",
   "execution_count": 1,
   "metadata": {},
   "outputs": [],
   "source": [
    "import pandas as pd"
   ]
  },
  {
   "cell_type": "code",
   "execution_count": 2,
   "metadata": {},
   "outputs": [],
   "source": [
    "import numpy as np"
   ]
  },
  {
   "cell_type": "code",
   "execution_count": 3,
   "metadata": {},
   "outputs": [],
   "source": [
    "import json"
   ]
  },
  {
   "cell_type": "markdown",
   "metadata": {},
   "source": [
    "### Criação do dicionário contendo os arquivos de cada ano"
   ]
  },
  {
   "cell_type": "code",
   "execution_count": 4,
   "metadata": {},
   "outputs": [],
   "source": [
    "arquivos_itens_provas = {\n",
    "    2010: '../2010/Dados/ITENS_PROVA_2010.csv',\n",
    "    2011: '../2011/DADOS/ITENS_PROVA_2011.txt',\n",
    "    2012: '../2012/DADOS/ITENS_ENEM_2012.csv',\n",
    "    2013: {\n",
    "        'ano': 2013,\n",
    "        'caminho': '../2013/PLANILHAS/ITENS_ENEM_2013.xlsx',\n",
    "        'colunas_posicao': ['Ordem_Amarelo', 'Ordem_Cinza', 'Ordem_Azul', 'Ordem_Rosa'],      \n",
    "        'colunas_item': ['Cod.Amarelo', 'Cod.Cinza', 'Cod.Azul', 'Cod.Rosa'],\n",
    "        'cores_provas': ['AMARELA', 'CINZA', 'AZUL', 'ROSA'],\n",
    "        'codigos_provas': [179, 180, 181, 182]\n",
    "    },\n",
    "    2014: {\n",
    "        'ano': 2014,\n",
    "        'caminho': '../2014/PLANILHAS/ITENS_ENEM_2014.xlsx',\n",
    "        'colunas_posicao': ['Ordem_Amarelo', 'Ordem_Cinza', 'Ordem_Azul', 'Ordem_Rosa'],      \n",
    "        'colunas_item': ['Cod.Amarelo', 'Cod.Cinza', 'Cod.Azul', 'Cod.Rosa'],\n",
    "        'cores_provas': ['AMARELA', 'CINZA', 'AZUL', 'ROSA'],\n",
    "        'codigos_provas': [207, 208, 209, 210]\n",
    "    },\n",
    "    2015: {\n",
    "        'ano': 2015,\n",
    "        'caminho': '../2015/PLANILHAS/ITENS_ENEM_2015.xlsx',\n",
    "        'colunas_posicao': ['Ordem_Amarelo', 'Ordem cinza', 'Ordem Azul', 'Ordem Rosa'],\n",
    "        'colunas_item': ['Cod.Amarelo', 'Cod.Cinza', 'Cod.Azul', 'Cod.Rosa'],\n",
    "        'cores_provas': ['AMARELA', 'CINZA', 'AZUL', 'ROSA'],\n",
    "        'codigos_provas': [243, 244, 245, 246]\n",
    "    },\n",
    "    2016: '../2016/DADOS/itens_prova_2016.csv',\n",
    "    2017: '../2017/DADOS/ITENS_PROVA_2017.csv',\n",
    "    2018: '../2018/DADOS/ITENS_PROVA_2018.csv',\n",
    "    2019: '../2019/DADOS/ITENS_PROVA_2019.csv',\n",
    "}"
   ]
  },
  {
   "cell_type": "markdown",
   "metadata": {},
   "source": [
    "Tendo em vista que a estrutura dos arquivos contendo esses dados mudou ao longo do tempo, vamos dividir a leitura dos arquivos em 3 etapas: de 2010 a 2012, de 2013 a 2015 e de 2016 a 2019."
   ]
  },
  {
   "cell_type": "markdown",
   "metadata": {},
   "source": [
    "### Criação da tabela final"
   ]
  },
  {
   "cell_type": "markdown",
   "metadata": {},
   "source": [
    "Criação da lista com as colunas da tabela final"
   ]
  },
  {
   "cell_type": "code",
   "execution_count": 5,
   "metadata": {},
   "outputs": [],
   "source": [
    "lista_colunas = [\n",
    "    'ANO_PROVA',\n",
    "    'CO_POSICAO',\n",
    "    'SG_AREA',\n",
    "    'CO_ITEM',\n",
    "    'TX_GABARITO',\n",
    "    'CO_HABILIDADE',\n",
    "    'TX_COR',\n",
    "    'CO_PROVA',\n",
    "]"
   ]
  },
  {
   "cell_type": "markdown",
   "metadata": {},
   "source": [
    "Criação da tabela final"
   ]
  },
  {
   "cell_type": "code",
   "execution_count": 6,
   "metadata": {},
   "outputs": [],
   "source": [
    "itens_provas_mt_2010_2019 = pd.DataFrame(columns = lista_colunas)"
   ]
  },
  {
   "cell_type": "markdown",
   "metadata": {},
   "source": [
    "Mostrando as informações da tabela final"
   ]
  },
  {
   "cell_type": "code",
   "execution_count": 7,
   "metadata": {},
   "outputs": [
    {
     "name": "stdout",
     "output_type": "stream",
     "text": [
      "<class 'pandas.core.frame.DataFrame'>\n",
      "Index: 0 entries\n",
      "Data columns (total 8 columns):\n",
      " #   Column         Non-Null Count  Dtype \n",
      "---  ------         --------------  ----- \n",
      " 0   ANO_PROVA      0 non-null      object\n",
      " 1   CO_POSICAO     0 non-null      object\n",
      " 2   SG_AREA        0 non-null      object\n",
      " 3   CO_ITEM        0 non-null      object\n",
      " 4   TX_GABARITO    0 non-null      object\n",
      " 5   CO_HABILIDADE  0 non-null      object\n",
      " 6   TX_COR         0 non-null      object\n",
      " 7   CO_PROVA       0 non-null      object\n",
      "dtypes: object(8)\n",
      "memory usage: 0.0+ bytes\n"
     ]
    }
   ],
   "source": [
    "itens_provas_mt_2010_2019.info()"
   ]
  },
  {
   "cell_type": "markdown",
   "metadata": {},
   "source": [
    "### Leitura dos arquivos de 2010 a 2012"
   ]
  },
  {
   "cell_type": "markdown",
   "metadata": {},
   "source": [
    "Como os arquivos desses anos não possuem o mesmo padrão de conteúdo e nomes das colunas e nem de formato de arquivo, vamos realizar a leitura deles individualmente."
   ]
  },
  {
   "cell_type": "markdown",
   "metadata": {},
   "source": [
    "Realizando a leitura do arquivo do ano de 2010."
   ]
  },
  {
   "cell_type": "code",
   "execution_count": 8,
   "metadata": {},
   "outputs": [],
   "source": [
    "itens_2010 = pd.read_csv(arquivos_itens_provas[2010], sep=';')"
   ]
  },
  {
   "cell_type": "markdown",
   "metadata": {},
   "source": [
    "Mostrando as informações do arquivo"
   ]
  },
  {
   "cell_type": "code",
   "execution_count": 9,
   "metadata": {},
   "outputs": [
    {
     "name": "stdout",
     "output_type": "stream",
     "text": [
      "<class 'pandas.core.frame.DataFrame'>\n",
      "RangeIndex: 740 entries, 0 to 739\n",
      "Data columns (total 8 columns):\n",
      " #   Column         Non-Null Count  Dtype  \n",
      "---  ------         --------------  -----  \n",
      " 0   CO_POSICAO     740 non-null    int64  \n",
      " 1   SG_AREA        740 non-null    object \n",
      " 2   CO_ITEM        740 non-null    int64  \n",
      " 3   TX_GABARITO    740 non-null    object \n",
      " 4   CO_HABILIDADE  740 non-null    int64  \n",
      " 5   TX_COR         740 non-null    object \n",
      " 6   CO_PROVA       740 non-null    int64  \n",
      " 7   TP_LINGUA      10 non-null     float64\n",
      "dtypes: float64(1), int64(4), object(3)\n",
      "memory usage: 46.4+ KB\n"
     ]
    }
   ],
   "source": [
    "itens_2010.info()"
   ]
  },
  {
   "cell_type": "markdown",
   "metadata": {},
   "source": [
    "Selecionando apenas as linhas dos itens da área de Matemática e Suas Tecnologias"
   ]
  },
  {
   "cell_type": "code",
   "execution_count": 10,
   "metadata": {},
   "outputs": [],
   "source": [
    "itens_2010 = itens_2010[itens_2010['SG_AREA'] == 'MT']"
   ]
  },
  {
   "cell_type": "markdown",
   "metadata": {},
   "source": [
    "Excluindo a coluna chamada \"TP_LINGUA\" que é específica para itens das provas de Língua Estrangeira"
   ]
  },
  {
   "cell_type": "code",
   "execution_count": 11,
   "metadata": {},
   "outputs": [],
   "source": [
    "itens_2010 = itens_2010.drop('TP_LINGUA', axis=1)"
   ]
  },
  {
   "cell_type": "markdown",
   "metadata": {},
   "source": [
    "Incluindo a coluna com o ano da prova e preenchendo com o valor 2010"
   ]
  },
  {
   "cell_type": "code",
   "execution_count": 12,
   "metadata": {},
   "outputs": [],
   "source": [
    "itens_2010['ANO_PROVA'] = 2010"
   ]
  },
  {
   "cell_type": "markdown",
   "metadata": {},
   "source": [
    "Mostrando as cinco primeiras linhas da tabela dos itens de 2010"
   ]
  },
  {
   "cell_type": "code",
   "execution_count": 13,
   "metadata": {},
   "outputs": [
    {
     "data": {
      "text/html": [
       "<div>\n",
       "<style scoped>\n",
       "    .dataframe tbody tr th:only-of-type {\n",
       "        vertical-align: middle;\n",
       "    }\n",
       "\n",
       "    .dataframe tbody tr th {\n",
       "        vertical-align: top;\n",
       "    }\n",
       "\n",
       "    .dataframe thead th {\n",
       "        text-align: right;\n",
       "    }\n",
       "</style>\n",
       "<table border=\"1\" class=\"dataframe\">\n",
       "  <thead>\n",
       "    <tr style=\"text-align: right;\">\n",
       "      <th></th>\n",
       "      <th>CO_POSICAO</th>\n",
       "      <th>SG_AREA</th>\n",
       "      <th>CO_ITEM</th>\n",
       "      <th>TX_GABARITO</th>\n",
       "      <th>CO_HABILIDADE</th>\n",
       "      <th>TX_COR</th>\n",
       "      <th>CO_PROVA</th>\n",
       "      <th>ANO_PROVA</th>\n",
       "    </tr>\n",
       "  </thead>\n",
       "  <tbody>\n",
       "    <tr>\n",
       "      <th>560</th>\n",
       "      <td>136</td>\n",
       "      <td>MT</td>\n",
       "      <td>70114</td>\n",
       "      <td>C</td>\n",
       "      <td>1</td>\n",
       "      <td>AMARELO</td>\n",
       "      <td>97</td>\n",
       "      <td>2010</td>\n",
       "    </tr>\n",
       "    <tr>\n",
       "      <th>561</th>\n",
       "      <td>137</td>\n",
       "      <td>MT</td>\n",
       "      <td>72709</td>\n",
       "      <td>E</td>\n",
       "      <td>7</td>\n",
       "      <td>AMARELO</td>\n",
       "      <td>97</td>\n",
       "      <td>2010</td>\n",
       "    </tr>\n",
       "    <tr>\n",
       "      <th>562</th>\n",
       "      <td>138</td>\n",
       "      <td>MT</td>\n",
       "      <td>70700</td>\n",
       "      <td>E</td>\n",
       "      <td>11</td>\n",
       "      <td>AMARELO</td>\n",
       "      <td>97</td>\n",
       "      <td>2010</td>\n",
       "    </tr>\n",
       "    <tr>\n",
       "      <th>563</th>\n",
       "      <td>139</td>\n",
       "      <td>MT</td>\n",
       "      <td>70379</td>\n",
       "      <td>B</td>\n",
       "      <td>12</td>\n",
       "      <td>AMARELO</td>\n",
       "      <td>97</td>\n",
       "      <td>2010</td>\n",
       "    </tr>\n",
       "    <tr>\n",
       "      <th>564</th>\n",
       "      <td>140</td>\n",
       "      <td>MT</td>\n",
       "      <td>72470</td>\n",
       "      <td>C</td>\n",
       "      <td>25</td>\n",
       "      <td>AMARELO</td>\n",
       "      <td>97</td>\n",
       "      <td>2010</td>\n",
       "    </tr>\n",
       "  </tbody>\n",
       "</table>\n",
       "</div>"
      ],
      "text/plain": [
       "     CO_POSICAO SG_AREA  CO_ITEM TX_GABARITO  CO_HABILIDADE   TX_COR  \\\n",
       "560         136      MT    70114           C              1  AMARELO   \n",
       "561         137      MT    72709           E              7  AMARELO   \n",
       "562         138      MT    70700           E             11  AMARELO   \n",
       "563         139      MT    70379           B             12  AMARELO   \n",
       "564         140      MT    72470           C             25  AMARELO   \n",
       "\n",
       "     CO_PROVA  ANO_PROVA  \n",
       "560        97       2010  \n",
       "561        97       2010  \n",
       "562        97       2010  \n",
       "563        97       2010  \n",
       "564        97       2010  "
      ]
     },
     "execution_count": 13,
     "metadata": {},
     "output_type": "execute_result"
    }
   ],
   "source": [
    "itens_2010.head()"
   ]
  },
  {
   "cell_type": "markdown",
   "metadata": {},
   "source": [
    "Incluindo os registros do ano de 2010 na tabela final"
   ]
  },
  {
   "cell_type": "code",
   "execution_count": 14,
   "metadata": {},
   "outputs": [],
   "source": [
    "itens_provas_mt_2010_2019 = itens_provas_mt_2010_2019.append(itens_2010)"
   ]
  },
  {
   "cell_type": "markdown",
   "metadata": {},
   "source": [
    "Mostrando os cinco últimos registros da tabela para confirmar que os registros do ano de 2010 foram adicionados"
   ]
  },
  {
   "cell_type": "code",
   "execution_count": 15,
   "metadata": {
    "scrolled": false
   },
   "outputs": [
    {
     "data": {
      "text/html": [
       "<div>\n",
       "<style scoped>\n",
       "    .dataframe tbody tr th:only-of-type {\n",
       "        vertical-align: middle;\n",
       "    }\n",
       "\n",
       "    .dataframe tbody tr th {\n",
       "        vertical-align: top;\n",
       "    }\n",
       "\n",
       "    .dataframe thead th {\n",
       "        text-align: right;\n",
       "    }\n",
       "</style>\n",
       "<table border=\"1\" class=\"dataframe\">\n",
       "  <thead>\n",
       "    <tr style=\"text-align: right;\">\n",
       "      <th></th>\n",
       "      <th>ANO_PROVA</th>\n",
       "      <th>CO_POSICAO</th>\n",
       "      <th>SG_AREA</th>\n",
       "      <th>CO_ITEM</th>\n",
       "      <th>TX_GABARITO</th>\n",
       "      <th>CO_HABILIDADE</th>\n",
       "      <th>TX_COR</th>\n",
       "      <th>CO_PROVA</th>\n",
       "    </tr>\n",
       "  </thead>\n",
       "  <tbody>\n",
       "    <tr>\n",
       "      <th>735</th>\n",
       "      <td>2010</td>\n",
       "      <td>176</td>\n",
       "      <td>MT</td>\n",
       "      <td>72775</td>\n",
       "      <td>B</td>\n",
       "      <td>16</td>\n",
       "      <td>ROSA</td>\n",
       "      <td>100</td>\n",
       "    </tr>\n",
       "    <tr>\n",
       "      <th>736</th>\n",
       "      <td>2010</td>\n",
       "      <td>177</td>\n",
       "      <td>MT</td>\n",
       "      <td>70845</td>\n",
       "      <td>E</td>\n",
       "      <td>18</td>\n",
       "      <td>ROSA</td>\n",
       "      <td>100</td>\n",
       "    </tr>\n",
       "    <tr>\n",
       "      <th>737</th>\n",
       "      <td>2010</td>\n",
       "      <td>178</td>\n",
       "      <td>MT</td>\n",
       "      <td>70765</td>\n",
       "      <td>D</td>\n",
       "      <td>8</td>\n",
       "      <td>ROSA</td>\n",
       "      <td>100</td>\n",
       "    </tr>\n",
       "    <tr>\n",
       "      <th>738</th>\n",
       "      <td>2010</td>\n",
       "      <td>179</td>\n",
       "      <td>MT</td>\n",
       "      <td>73400</td>\n",
       "      <td>D</td>\n",
       "      <td>2</td>\n",
       "      <td>ROSA</td>\n",
       "      <td>100</td>\n",
       "    </tr>\n",
       "    <tr>\n",
       "      <th>739</th>\n",
       "      <td>2010</td>\n",
       "      <td>180</td>\n",
       "      <td>MT</td>\n",
       "      <td>59475</td>\n",
       "      <td>E</td>\n",
       "      <td>24</td>\n",
       "      <td>ROSA</td>\n",
       "      <td>100</td>\n",
       "    </tr>\n",
       "  </tbody>\n",
       "</table>\n",
       "</div>"
      ],
      "text/plain": [
       "    ANO_PROVA CO_POSICAO SG_AREA CO_ITEM TX_GABARITO CO_HABILIDADE TX_COR  \\\n",
       "735      2010        176      MT   72775           B            16   ROSA   \n",
       "736      2010        177      MT   70845           E            18   ROSA   \n",
       "737      2010        178      MT   70765           D             8   ROSA   \n",
       "738      2010        179      MT   73400           D             2   ROSA   \n",
       "739      2010        180      MT   59475           E            24   ROSA   \n",
       "\n",
       "    CO_PROVA  \n",
       "735      100  \n",
       "736      100  \n",
       "737      100  \n",
       "738      100  \n",
       "739      100  "
      ]
     },
     "execution_count": 15,
     "metadata": {},
     "output_type": "execute_result"
    }
   ],
   "source": [
    "itens_provas_mt_2010_2019.tail()"
   ]
  },
  {
   "cell_type": "markdown",
   "metadata": {},
   "source": [
    "Realizando a leitura do arquivo do ano de 2011."
   ]
  },
  {
   "cell_type": "code",
   "execution_count": 16,
   "metadata": {},
   "outputs": [],
   "source": [
    "itens_2011 = pd.read_csv(arquivos_itens_provas[2011], header=None)"
   ]
  },
  {
   "cell_type": "markdown",
   "metadata": {},
   "source": [
    "Mostrando as informações do arquivo"
   ]
  },
  {
   "cell_type": "code",
   "execution_count": 17,
   "metadata": {},
   "outputs": [
    {
     "name": "stdout",
     "output_type": "stream",
     "text": [
      "<class 'pandas.core.frame.DataFrame'>\n",
      "RangeIndex: 925 entries, 0 to 924\n",
      "Data columns (total 1 columns):\n",
      " #   Column  Non-Null Count  Dtype \n",
      "---  ------  --------------  ----- \n",
      " 0   0       925 non-null    object\n",
      "dtypes: object(1)\n",
      "memory usage: 7.4+ KB\n"
     ]
    }
   ],
   "source": [
    "itens_2011.info()"
   ]
  },
  {
   "cell_type": "markdown",
   "metadata": {},
   "source": [
    "Como o arquivo veio em formato de texto com apenas uma coluna, vamos extrair as informações de cada coluna seleciuonando os caracteres da string da coluna"
   ]
  },
  {
   "cell_type": "code",
   "execution_count": 18,
   "metadata": {},
   "outputs": [],
   "source": [
    "itens_2011['CO_POSICAO'] = itens_2011[0].str[:3]\n",
    "itens_2011['SG_AREA'] = itens_2011[0].str[3:5]\n",
    "itens_2011['CO_ITEM'] = itens_2011[0].str[5:10]\n",
    "itens_2011['TX_GABARITO'] = itens_2011[0].str[10]\n",
    "itens_2011['CO_HABILIDADE'] = itens_2011[0].str[11:13]\n",
    "itens_2011['TX_COR'] = itens_2011[0].str[13:20]\n",
    "itens_2011['CO_PROVA'] = itens_2011[0].str[20:]"
   ]
  },
  {
   "cell_type": "markdown",
   "metadata": {},
   "source": [
    "Mostrando as informações do arquivo"
   ]
  },
  {
   "cell_type": "code",
   "execution_count": 19,
   "metadata": {
    "scrolled": true
   },
   "outputs": [
    {
     "name": "stdout",
     "output_type": "stream",
     "text": [
      "<class 'pandas.core.frame.DataFrame'>\n",
      "RangeIndex: 925 entries, 0 to 924\n",
      "Data columns (total 8 columns):\n",
      " #   Column         Non-Null Count  Dtype \n",
      "---  ------         --------------  ----- \n",
      " 0   0              925 non-null    object\n",
      " 1   CO_POSICAO     925 non-null    object\n",
      " 2   SG_AREA        925 non-null    object\n",
      " 3   CO_ITEM        925 non-null    object\n",
      " 4   TX_GABARITO    925 non-null    object\n",
      " 5   CO_HABILIDADE  925 non-null    object\n",
      " 6   TX_COR         925 non-null    object\n",
      " 7   CO_PROVA       925 non-null    object\n",
      "dtypes: object(8)\n",
      "memory usage: 57.9+ KB\n"
     ]
    }
   ],
   "source": [
    "itens_2011.info()"
   ]
  },
  {
   "cell_type": "markdown",
   "metadata": {},
   "source": [
    "Agora vamos excluir a coluna com o texto original"
   ]
  },
  {
   "cell_type": "code",
   "execution_count": 20,
   "metadata": {},
   "outputs": [],
   "source": [
    "itens_2011 = itens_2011.drop(0, axis=1)"
   ]
  },
  {
   "cell_type": "markdown",
   "metadata": {},
   "source": [
    "Selecionando apenas as linhas dos itens da área de Matemática e Suas Tecnologias"
   ]
  },
  {
   "cell_type": "code",
   "execution_count": 21,
   "metadata": {},
   "outputs": [],
   "source": [
    "itens_2011 = itens_2011[itens_2011['SG_AREA'] == 'MT']"
   ]
  },
  {
   "cell_type": "markdown",
   "metadata": {},
   "source": [
    "Incluindo a coluna com o ano da prova e preenchendo com o valor 2011"
   ]
  },
  {
   "cell_type": "code",
   "execution_count": 22,
   "metadata": {},
   "outputs": [],
   "source": [
    "itens_2011['ANO_PROVA'] = 2011"
   ]
  },
  {
   "cell_type": "markdown",
   "metadata": {},
   "source": [
    "Mostrando os cinco últimos registros da tabela para confirmar que os registros do ano de 2011 foram adicionados"
   ]
  },
  {
   "cell_type": "code",
   "execution_count": 23,
   "metadata": {},
   "outputs": [
    {
     "data": {
      "text/html": [
       "<div>\n",
       "<style scoped>\n",
       "    .dataframe tbody tr th:only-of-type {\n",
       "        vertical-align: middle;\n",
       "    }\n",
       "\n",
       "    .dataframe tbody tr th {\n",
       "        vertical-align: top;\n",
       "    }\n",
       "\n",
       "    .dataframe thead th {\n",
       "        text-align: right;\n",
       "    }\n",
       "</style>\n",
       "<table border=\"1\" class=\"dataframe\">\n",
       "  <thead>\n",
       "    <tr style=\"text-align: right;\">\n",
       "      <th></th>\n",
       "      <th>CO_POSICAO</th>\n",
       "      <th>SG_AREA</th>\n",
       "      <th>CO_ITEM</th>\n",
       "      <th>TX_GABARITO</th>\n",
       "      <th>CO_HABILIDADE</th>\n",
       "      <th>TX_COR</th>\n",
       "      <th>CO_PROVA</th>\n",
       "      <th>ANO_PROVA</th>\n",
       "    </tr>\n",
       "  </thead>\n",
       "  <tbody>\n",
       "    <tr>\n",
       "      <th>560</th>\n",
       "      <td>136</td>\n",
       "      <td>MT</td>\n",
       "      <td>70183</td>\n",
       "      <td>A</td>\n",
       "      <td>1</td>\n",
       "      <td>Cinza</td>\n",
       "      <td>130</td>\n",
       "      <td>2011</td>\n",
       "    </tr>\n",
       "    <tr>\n",
       "      <th>561</th>\n",
       "      <td>137</td>\n",
       "      <td>MT</td>\n",
       "      <td>72052</td>\n",
       "      <td>B</td>\n",
       "      <td>10</td>\n",
       "      <td>Cinza</td>\n",
       "      <td>130</td>\n",
       "      <td>2011</td>\n",
       "    </tr>\n",
       "    <tr>\n",
       "      <th>562</th>\n",
       "      <td>138</td>\n",
       "      <td>MT</td>\n",
       "      <td>72676</td>\n",
       "      <td>E</td>\n",
       "      <td>21</td>\n",
       "      <td>Cinza</td>\n",
       "      <td>130</td>\n",
       "      <td>2011</td>\n",
       "    </tr>\n",
       "    <tr>\n",
       "      <th>563</th>\n",
       "      <td>139</td>\n",
       "      <td>MT</td>\n",
       "      <td>71649</td>\n",
       "      <td>E</td>\n",
       "      <td>5</td>\n",
       "      <td>Cinza</td>\n",
       "      <td>130</td>\n",
       "      <td>2011</td>\n",
       "    </tr>\n",
       "    <tr>\n",
       "      <th>564</th>\n",
       "      <td>140</td>\n",
       "      <td>MT</td>\n",
       "      <td>72045</td>\n",
       "      <td>E</td>\n",
       "      <td>17</td>\n",
       "      <td>Cinza</td>\n",
       "      <td>130</td>\n",
       "      <td>2011</td>\n",
       "    </tr>\n",
       "  </tbody>\n",
       "</table>\n",
       "</div>"
      ],
      "text/plain": [
       "    CO_POSICAO SG_AREA CO_ITEM TX_GABARITO CO_HABILIDADE   TX_COR CO_PROVA  \\\n",
       "560        136      MT   70183           A             1  Cinza        130   \n",
       "561        137      MT   72052           B            10  Cinza        130   \n",
       "562        138      MT   72676           E            21  Cinza        130   \n",
       "563        139      MT   71649           E             5  Cinza        130   \n",
       "564        140      MT   72045           E            17  Cinza        130   \n",
       "\n",
       "     ANO_PROVA  \n",
       "560       2011  \n",
       "561       2011  \n",
       "562       2011  \n",
       "563       2011  \n",
       "564       2011  "
      ]
     },
     "execution_count": 23,
     "metadata": {},
     "output_type": "execute_result"
    }
   ],
   "source": [
    "itens_2011.head()"
   ]
  },
  {
   "cell_type": "markdown",
   "metadata": {},
   "source": [
    "Incluindo os registros do ano de 2011 na tabela final"
   ]
  },
  {
   "cell_type": "code",
   "execution_count": 24,
   "metadata": {},
   "outputs": [],
   "source": [
    "itens_provas_mt_2010_2019 = itens_provas_mt_2010_2019.append(itens_2011)"
   ]
  },
  {
   "cell_type": "markdown",
   "metadata": {},
   "source": [
    "Mostrando os cinco últimos registros da tabela para confirmar que os registros do ano de 2012 foram adicionados"
   ]
  },
  {
   "cell_type": "code",
   "execution_count": 25,
   "metadata": {
    "scrolled": false
   },
   "outputs": [
    {
     "data": {
      "text/html": [
       "<div>\n",
       "<style scoped>\n",
       "    .dataframe tbody tr th:only-of-type {\n",
       "        vertical-align: middle;\n",
       "    }\n",
       "\n",
       "    .dataframe tbody tr th {\n",
       "        vertical-align: top;\n",
       "    }\n",
       "\n",
       "    .dataframe thead th {\n",
       "        text-align: right;\n",
       "    }\n",
       "</style>\n",
       "<table border=\"1\" class=\"dataframe\">\n",
       "  <thead>\n",
       "    <tr style=\"text-align: right;\">\n",
       "      <th></th>\n",
       "      <th>ANO_PROVA</th>\n",
       "      <th>CO_POSICAO</th>\n",
       "      <th>SG_AREA</th>\n",
       "      <th>CO_ITEM</th>\n",
       "      <th>TX_GABARITO</th>\n",
       "      <th>CO_HABILIDADE</th>\n",
       "      <th>TX_COR</th>\n",
       "      <th>CO_PROVA</th>\n",
       "    </tr>\n",
       "  </thead>\n",
       "  <tbody>\n",
       "    <tr>\n",
       "      <th>920</th>\n",
       "      <td>2011</td>\n",
       "      <td>176</td>\n",
       "      <td>MT</td>\n",
       "      <td>72041</td>\n",
       "      <td>C</td>\n",
       "      <td>9</td>\n",
       "      <td>Cinza</td>\n",
       "      <td>136</td>\n",
       "    </tr>\n",
       "    <tr>\n",
       "      <th>921</th>\n",
       "      <td>2011</td>\n",
       "      <td>177</td>\n",
       "      <td>MT</td>\n",
       "      <td>70186</td>\n",
       "      <td>C</td>\n",
       "      <td>25</td>\n",
       "      <td>Cinza</td>\n",
       "      <td>136</td>\n",
       "    </tr>\n",
       "    <tr>\n",
       "      <th>922</th>\n",
       "      <td>2011</td>\n",
       "      <td>178</td>\n",
       "      <td>MT</td>\n",
       "      <td>72980</td>\n",
       "      <td>C</td>\n",
       "      <td>9</td>\n",
       "      <td>Cinza</td>\n",
       "      <td>136</td>\n",
       "    </tr>\n",
       "    <tr>\n",
       "      <th>923</th>\n",
       "      <td>2011</td>\n",
       "      <td>179</td>\n",
       "      <td>MT</td>\n",
       "      <td>71221</td>\n",
       "      <td>A</td>\n",
       "      <td>12</td>\n",
       "      <td>Cinza</td>\n",
       "      <td>136</td>\n",
       "    </tr>\n",
       "    <tr>\n",
       "      <th>924</th>\n",
       "      <td>2011</td>\n",
       "      <td>180</td>\n",
       "      <td>MT</td>\n",
       "      <td>71071</td>\n",
       "      <td>B</td>\n",
       "      <td>15</td>\n",
       "      <td>Cinza</td>\n",
       "      <td>136</td>\n",
       "    </tr>\n",
       "  </tbody>\n",
       "</table>\n",
       "</div>"
      ],
      "text/plain": [
       "    ANO_PROVA CO_POSICAO SG_AREA CO_ITEM TX_GABARITO CO_HABILIDADE   TX_COR  \\\n",
       "920      2011        176      MT   72041           C             9  Cinza     \n",
       "921      2011        177      MT   70186           C            25  Cinza     \n",
       "922      2011        178      MT   72980           C             9  Cinza     \n",
       "923      2011        179      MT   71221           A            12  Cinza     \n",
       "924      2011        180      MT   71071           B            15  Cinza     \n",
       "\n",
       "    CO_PROVA  \n",
       "920      136  \n",
       "921      136  \n",
       "922      136  \n",
       "923      136  \n",
       "924      136  "
      ]
     },
     "execution_count": 25,
     "metadata": {},
     "output_type": "execute_result"
    }
   ],
   "source": [
    "itens_provas_mt_2010_2019.tail()"
   ]
  },
  {
   "cell_type": "markdown",
   "metadata": {},
   "source": [
    "Realizando a leitura do arquivo do ano de 2012."
   ]
  },
  {
   "cell_type": "code",
   "execution_count": 26,
   "metadata": {},
   "outputs": [],
   "source": [
    "itens_2012 = pd.read_csv(arquivos_itens_provas[2012])"
   ]
  },
  {
   "cell_type": "markdown",
   "metadata": {},
   "source": [
    "Mostrando as informações do arquivo"
   ]
  },
  {
   "cell_type": "code",
   "execution_count": 27,
   "metadata": {},
   "outputs": [
    {
     "name": "stdout",
     "output_type": "stream",
     "text": [
      "<class 'pandas.core.frame.DataFrame'>\n",
      "RangeIndex: 925 entries, 0 to 924\n",
      "Data columns (total 7 columns):\n",
      " #   Column         Non-Null Count  Dtype \n",
      "---  ------         --------------  ----- \n",
      " 0   ID_POSICAO     925 non-null    object\n",
      " 1   COD_AREA       925 non-null    object\n",
      " 2   ID_ITEM        925 non-null    int64 \n",
      " 3   DS_GABARITO    925 non-null    object\n",
      " 4   ID_HABILIDADE  925 non-null    int64 \n",
      " 5   DS_COR         925 non-null    object\n",
      " 6   ID_PROVA       925 non-null    int64 \n",
      "dtypes: int64(3), object(4)\n",
      "memory usage: 50.7+ KB\n"
     ]
    }
   ],
   "source": [
    "itens_2012.info()"
   ]
  },
  {
   "cell_type": "markdown",
   "metadata": {},
   "source": [
    "Selecionando apenas as linhas dos itens da área de Matemática e Suas Tecnologias"
   ]
  },
  {
   "cell_type": "code",
   "execution_count": 28,
   "metadata": {},
   "outputs": [],
   "source": [
    "itens_2012 = itens_2012[itens_2012['COD_AREA'] == 'MT']"
   ]
  },
  {
   "cell_type": "markdown",
   "metadata": {},
   "source": [
    "Renomeando as colunas para manter o padrão"
   ]
  },
  {
   "cell_type": "code",
   "execution_count": 29,
   "metadata": {},
   "outputs": [],
   "source": [
    "itens_2012 = itens_2012.rename(columns={\n",
    "    'ID_POSICAO': 'CO_POSICAO', \n",
    "    'COD_AREA': 'SG_AREA', \n",
    "    'ID_ITEM': 'CO_ITEM',\n",
    "    'DS_GABARITO': 'TX_GABARITO',\n",
    "    'ID_HABILIDADE': 'CO_HABILIDADE',\n",
    "    'DS_COR': 'TX_COR',\n",
    "    'ID_PROVA': 'CO_PROVA'\n",
    "})"
   ]
  },
  {
   "cell_type": "markdown",
   "metadata": {},
   "source": [
    "Incluindo a coluna com o ano da prova e preenchendo com o valor 2012"
   ]
  },
  {
   "cell_type": "code",
   "execution_count": 30,
   "metadata": {},
   "outputs": [],
   "source": [
    "itens_2012['ANO_PROVA'] = 2012"
   ]
  },
  {
   "cell_type": "markdown",
   "metadata": {},
   "source": [
    "Mostrando as cinco primeiras linhas da tabela dos itens de 2010"
   ]
  },
  {
   "cell_type": "code",
   "execution_count": 31,
   "metadata": {
    "scrolled": true
   },
   "outputs": [
    {
     "data": {
      "text/html": [
       "<div>\n",
       "<style scoped>\n",
       "    .dataframe tbody tr th:only-of-type {\n",
       "        vertical-align: middle;\n",
       "    }\n",
       "\n",
       "    .dataframe tbody tr th {\n",
       "        vertical-align: top;\n",
       "    }\n",
       "\n",
       "    .dataframe thead th {\n",
       "        text-align: right;\n",
       "    }\n",
       "</style>\n",
       "<table border=\"1\" class=\"dataframe\">\n",
       "  <thead>\n",
       "    <tr style=\"text-align: right;\">\n",
       "      <th></th>\n",
       "      <th>CO_POSICAO</th>\n",
       "      <th>SG_AREA</th>\n",
       "      <th>CO_ITEM</th>\n",
       "      <th>TX_GABARITO</th>\n",
       "      <th>CO_HABILIDADE</th>\n",
       "      <th>TX_COR</th>\n",
       "      <th>CO_PROVA</th>\n",
       "      <th>ANO_PROVA</th>\n",
       "    </tr>\n",
       "  </thead>\n",
       "  <tbody>\n",
       "    <tr>\n",
       "      <th>560</th>\n",
       "      <td>1</td>\n",
       "      <td>MT</td>\n",
       "      <td>10547</td>\n",
       "      <td>A</td>\n",
       "      <td>4</td>\n",
       "      <td>Amarelo</td>\n",
       "      <td>149</td>\n",
       "      <td>2012</td>\n",
       "    </tr>\n",
       "    <tr>\n",
       "      <th>561</th>\n",
       "      <td>2</td>\n",
       "      <td>MT</td>\n",
       "      <td>15402</td>\n",
       "      <td>D</td>\n",
       "      <td>11</td>\n",
       "      <td>Amarelo</td>\n",
       "      <td>149</td>\n",
       "      <td>2012</td>\n",
       "    </tr>\n",
       "    <tr>\n",
       "      <th>562</th>\n",
       "      <td>3</td>\n",
       "      <td>MT</td>\n",
       "      <td>15460</td>\n",
       "      <td>E</td>\n",
       "      <td>30</td>\n",
       "      <td>Amarelo</td>\n",
       "      <td>149</td>\n",
       "      <td>2012</td>\n",
       "    </tr>\n",
       "    <tr>\n",
       "      <th>563</th>\n",
       "      <td>4</td>\n",
       "      <td>MT</td>\n",
       "      <td>9909</td>\n",
       "      <td>D</td>\n",
       "      <td>12</td>\n",
       "      <td>Amarelo</td>\n",
       "      <td>149</td>\n",
       "      <td>2012</td>\n",
       "    </tr>\n",
       "    <tr>\n",
       "      <th>564</th>\n",
       "      <td>5</td>\n",
       "      <td>MT</td>\n",
       "      <td>8444</td>\n",
       "      <td>E</td>\n",
       "      <td>20</td>\n",
       "      <td>Amarelo</td>\n",
       "      <td>149</td>\n",
       "      <td>2012</td>\n",
       "    </tr>\n",
       "  </tbody>\n",
       "</table>\n",
       "</div>"
      ],
      "text/plain": [
       "    CO_POSICAO SG_AREA  CO_ITEM TX_GABARITO  CO_HABILIDADE   TX_COR  CO_PROVA  \\\n",
       "560          1      MT    10547           A              4  Amarelo       149   \n",
       "561          2      MT    15402           D             11  Amarelo       149   \n",
       "562          3      MT    15460           E             30  Amarelo       149   \n",
       "563          4      MT     9909           D             12  Amarelo       149   \n",
       "564          5      MT     8444           E             20  Amarelo       149   \n",
       "\n",
       "     ANO_PROVA  \n",
       "560       2012  \n",
       "561       2012  \n",
       "562       2012  \n",
       "563       2012  \n",
       "564       2012  "
      ]
     },
     "execution_count": 31,
     "metadata": {},
     "output_type": "execute_result"
    }
   ],
   "source": [
    "itens_2012.head()"
   ]
  },
  {
   "cell_type": "markdown",
   "metadata": {},
   "source": [
    "Incluindo os registros do ano de 2012 na tabela final"
   ]
  },
  {
   "cell_type": "code",
   "execution_count": 32,
   "metadata": {},
   "outputs": [],
   "source": [
    "itens_provas_mt_2010_2019 = itens_provas_mt_2010_2019.append(itens_2012)"
   ]
  },
  {
   "cell_type": "markdown",
   "metadata": {},
   "source": [
    "Mostrando os cinco últimos registros da tabela para confirmar que os registros do ano de 2012 foram adicionados"
   ]
  },
  {
   "cell_type": "code",
   "execution_count": 33,
   "metadata": {
    "scrolled": true
   },
   "outputs": [
    {
     "data": {
      "text/html": [
       "<div>\n",
       "<style scoped>\n",
       "    .dataframe tbody tr th:only-of-type {\n",
       "        vertical-align: middle;\n",
       "    }\n",
       "\n",
       "    .dataframe tbody tr th {\n",
       "        vertical-align: top;\n",
       "    }\n",
       "\n",
       "    .dataframe thead th {\n",
       "        text-align: right;\n",
       "    }\n",
       "</style>\n",
       "<table border=\"1\" class=\"dataframe\">\n",
       "  <thead>\n",
       "    <tr style=\"text-align: right;\">\n",
       "      <th></th>\n",
       "      <th>ANO_PROVA</th>\n",
       "      <th>CO_POSICAO</th>\n",
       "      <th>SG_AREA</th>\n",
       "      <th>CO_ITEM</th>\n",
       "      <th>TX_GABARITO</th>\n",
       "      <th>CO_HABILIDADE</th>\n",
       "      <th>TX_COR</th>\n",
       "      <th>CO_PROVA</th>\n",
       "    </tr>\n",
       "  </thead>\n",
       "  <tbody>\n",
       "    <tr>\n",
       "      <th>920</th>\n",
       "      <td>2012</td>\n",
       "      <td>41</td>\n",
       "      <td>MT</td>\n",
       "      <td>8405</td>\n",
       "      <td>D</td>\n",
       "      <td>25</td>\n",
       "      <td>Cinza (Ledor)</td>\n",
       "      <td>156</td>\n",
       "    </tr>\n",
       "    <tr>\n",
       "      <th>921</th>\n",
       "      <td>2012</td>\n",
       "      <td>42</td>\n",
       "      <td>MT</td>\n",
       "      <td>12730</td>\n",
       "      <td>C</td>\n",
       "      <td>1</td>\n",
       "      <td>Cinza (Ledor)</td>\n",
       "      <td>156</td>\n",
       "    </tr>\n",
       "    <tr>\n",
       "      <th>922</th>\n",
       "      <td>2012</td>\n",
       "      <td>43</td>\n",
       "      <td>MT</td>\n",
       "      <td>14393</td>\n",
       "      <td>A</td>\n",
       "      <td>25</td>\n",
       "      <td>Cinza (Ledor)</td>\n",
       "      <td>156</td>\n",
       "    </tr>\n",
       "    <tr>\n",
       "      <th>923</th>\n",
       "      <td>2012</td>\n",
       "      <td>44</td>\n",
       "      <td>MT</td>\n",
       "      <td>8428</td>\n",
       "      <td>B</td>\n",
       "      <td>26</td>\n",
       "      <td>Cinza (Ledor)</td>\n",
       "      <td>156</td>\n",
       "    </tr>\n",
       "    <tr>\n",
       "      <th>924</th>\n",
       "      <td>2012</td>\n",
       "      <td>45</td>\n",
       "      <td>MT</td>\n",
       "      <td>7282</td>\n",
       "      <td>A</td>\n",
       "      <td>16</td>\n",
       "      <td>Cinza (Ledor)</td>\n",
       "      <td>156</td>\n",
       "    </tr>\n",
       "  </tbody>\n",
       "</table>\n",
       "</div>"
      ],
      "text/plain": [
       "    ANO_PROVA CO_POSICAO SG_AREA CO_ITEM TX_GABARITO CO_HABILIDADE  \\\n",
       "920      2012         41      MT    8405           D            25   \n",
       "921      2012         42      MT   12730           C             1   \n",
       "922      2012         43      MT   14393           A            25   \n",
       "923      2012         44      MT    8428           B            26   \n",
       "924      2012         45      MT    7282           A            16   \n",
       "\n",
       "            TX_COR CO_PROVA  \n",
       "920  Cinza (Ledor)      156  \n",
       "921  Cinza (Ledor)      156  \n",
       "922  Cinza (Ledor)      156  \n",
       "923  Cinza (Ledor)      156  \n",
       "924  Cinza (Ledor)      156  "
      ]
     },
     "execution_count": 33,
     "metadata": {},
     "output_type": "execute_result"
    }
   ],
   "source": [
    "itens_provas_mt_2010_2019.tail()"
   ]
  },
  {
   "cell_type": "markdown",
   "metadata": {},
   "source": [
    "Mostrando os valores encontrados na coluna \"ANO_PROVA\""
   ]
  },
  {
   "cell_type": "code",
   "execution_count": 34,
   "metadata": {
    "scrolled": true
   },
   "outputs": [
    {
     "data": {
      "text/plain": [
       "2011    225\n",
       "2012    225\n",
       "2010    180\n",
       "Name: ANO_PROVA, dtype: int64"
      ]
     },
     "execution_count": 34,
     "metadata": {},
     "output_type": "execute_result"
    }
   ],
   "source": [
    "itens_provas_mt_2010_2019['ANO_PROVA'].value_counts()"
   ]
  },
  {
   "cell_type": "markdown",
   "metadata": {},
   "source": [
    "### Leitura dos arquivos de 2013 a 2015"
   ]
  },
  {
   "cell_type": "markdown",
   "metadata": {},
   "source": [
    "Vamos criar uma função para ler automaticamente os arquivos de 2013 a 2015 e criar uma tabela única"
   ]
  },
  {
   "cell_type": "code",
   "execution_count": 35,
   "metadata": {},
   "outputs": [],
   "source": [
    "def criar_novo_dataframe(arquivo: dict) -> pd.DataFrame:\n",
    "    \"\"\"Cria um novo dataframe a partir do dicionário do arquivo do ano\"\"\"\n",
    "    novo_df = pd.read_excel(arquivo['caminho'], sheet_name='MTT')\n",
    "    itens_provas = pd.DataFrame(columns = lista_colunas)\n",
    "    itens_provas['CO_POSICAO'] = np.append(\n",
    "        np.append(novo_df[arquivo['colunas_posicao'][0]], novo_df[arquivo['colunas_posicao'][1]]),\n",
    "        np.append(novo_df[arquivo['colunas_posicao'][2]], novo_df[arquivo['colunas_posicao'][3]])\n",
    "    )\n",
    "    itens_provas['SG_AREA'] = 'MT'\n",
    "    itens_provas['CO_ITEM'] = np.append(\n",
    "        np.append(novo_df[arquivo['colunas_item'][0]], novo_df[arquivo['colunas_item'][1]]),\n",
    "        np.append(novo_df[arquivo['colunas_item'][2]], novo_df[arquivo['colunas_item'][3]])\n",
    "    )\n",
    "    itens_provas['TX_GABARITO'] = np.append(\n",
    "        np.append(novo_df['GAB'], novo_df['GAB.1']),\n",
    "        np.append(novo_df['GAB.2'], novo_df['GAB.3'])\n",
    "    )\n",
    "    itens_provas['CO_HABILIDADE'] = np.append(\n",
    "        np.append(novo_df['HAB'], novo_df['HAB.1']),\n",
    "        np.append(novo_df['HAB.2'], novo_df['HAB.3'])\n",
    "    )\n",
    "    itens_provas['TX_COR'] = np.array([cor for cor in arquivo['cores_provas'] for i in range(novo_df.shape[0])])\n",
    "    itens_provas['CO_PROVA'] = np.array([cor for cor in arquivo['codigos_provas'] for i in range(novo_df.shape[0])])\n",
    "    itens_provas['ANO_PROVA'] = arquivo['ano']\n",
    "    return itens_provas"
   ]
  },
  {
   "cell_type": "markdown",
   "metadata": {},
   "source": [
    "Agora vamos fazer a leitura do arquivo e adicionar os registros das tabelas dos anos de 2013 a 2015 diretamente na tabela final"
   ]
  },
  {
   "cell_type": "code",
   "execution_count": 36,
   "metadata": {},
   "outputs": [],
   "source": [
    "anos_provas_2013_2015 = [2013, 2014, 2015]\n",
    "for ano in anos_provas_2013_2015:\n",
    "    novo_df = criar_novo_dataframe(arquivos_itens_provas[ano])\n",
    "    itens_provas_mt_2010_2019 = itens_provas_mt_2010_2019.append(novo_df)"
   ]
  },
  {
   "cell_type": "markdown",
   "metadata": {},
   "source": [
    "Mostrando as informações da tabela final após a edição"
   ]
  },
  {
   "cell_type": "code",
   "execution_count": 37,
   "metadata": {},
   "outputs": [
    {
     "name": "stdout",
     "output_type": "stream",
     "text": [
      "<class 'pandas.core.frame.DataFrame'>\n",
      "Int64Index: 1170 entries, 560 to 179\n",
      "Data columns (total 8 columns):\n",
      " #   Column         Non-Null Count  Dtype \n",
      "---  ------         --------------  ----- \n",
      " 0   ANO_PROVA      1170 non-null   object\n",
      " 1   CO_POSICAO     1170 non-null   object\n",
      " 2   SG_AREA        1170 non-null   object\n",
      " 3   CO_ITEM        1170 non-null   object\n",
      " 4   TX_GABARITO    1170 non-null   object\n",
      " 5   CO_HABILIDADE  1170 non-null   object\n",
      " 6   TX_COR         1170 non-null   object\n",
      " 7   CO_PROVA       1170 non-null   object\n",
      "dtypes: object(8)\n",
      "memory usage: 82.3+ KB\n"
     ]
    }
   ],
   "source": [
    "itens_provas_mt_2010_2019.info()"
   ]
  },
  {
   "cell_type": "markdown",
   "metadata": {},
   "source": [
    "Mostrando os valores encontrados na coluna \"ANO_PROVA\""
   ]
  },
  {
   "cell_type": "code",
   "execution_count": 38,
   "metadata": {
    "scrolled": true
   },
   "outputs": [
    {
     "data": {
      "text/plain": [
       "2011    225\n",
       "2012    225\n",
       "2010    180\n",
       "2013    180\n",
       "2014    180\n",
       "2015    180\n",
       "Name: ANO_PROVA, dtype: int64"
      ]
     },
     "execution_count": 38,
     "metadata": {},
     "output_type": "execute_result"
    }
   ],
   "source": [
    "itens_provas_mt_2010_2019['ANO_PROVA'].value_counts()"
   ]
  },
  {
   "cell_type": "markdown",
   "metadata": {},
   "source": [
    "### Leitura dos arquivos de 2016 a 2019"
   ]
  },
  {
   "cell_type": "markdown",
   "metadata": {},
   "source": [
    "Como os arquivos com os dados dos anos de 2016 a 2016 possuem até mais colunas do que as desejadas, vamos fazer a leitura, excluir as colunas que não serão utilizadas e inserir os registros na tabela final"
   ]
  },
  {
   "cell_type": "code",
   "execution_count": 39,
   "metadata": {},
   "outputs": [],
   "source": [
    "anos_provas_2016_2019 = [2016, 2017, 2018, 2019]\n",
    "for ano in anos_provas_2016_2019:\n",
    "    novo_df = pd.read_csv(arquivos_itens_provas[ano], sep=';')\n",
    "    novo_df = novo_df[novo_df['SG_AREA'] == 'MT']\n",
    "    novo_df['ANO_PROVA'] = ano\n",
    "    novo_df = novo_df.drop('TP_LINGUA', axis=1)\n",
    "    novo_df = novo_df.drop('IN_ITEM_ADAPTADO', axis=1)\n",
    "    itens_provas_mt_2010_2019 = itens_provas_mt_2010_2019.append(novo_df)"
   ]
  },
  {
   "cell_type": "markdown",
   "metadata": {},
   "source": [
    "Vamos renumerar os índices das linhas da tabela final"
   ]
  },
  {
   "cell_type": "code",
   "execution_count": 40,
   "metadata": {},
   "outputs": [],
   "source": [
    "itens_provas_mt_2010_2019 = itens_provas_mt_2010_2019.reset_index(drop=True)"
   ]
  },
  {
   "cell_type": "markdown",
   "metadata": {},
   "source": [
    "Mostrando as informações para comprovar que os índices agora vão de 0 a 3149, totalizando 3150 itens"
   ]
  },
  {
   "cell_type": "code",
   "execution_count": 41,
   "metadata": {
    "scrolled": true
   },
   "outputs": [
    {
     "name": "stdout",
     "output_type": "stream",
     "text": [
      "<class 'pandas.core.frame.DataFrame'>\n",
      "RangeIndex: 3150 entries, 0 to 3149\n",
      "Data columns (total 8 columns):\n",
      " #   Column         Non-Null Count  Dtype \n",
      "---  ------         --------------  ----- \n",
      " 0   ANO_PROVA      3150 non-null   object\n",
      " 1   CO_POSICAO     3150 non-null   object\n",
      " 2   SG_AREA        3150 non-null   object\n",
      " 3   CO_ITEM        3150 non-null   object\n",
      " 4   TX_GABARITO    3150 non-null   object\n",
      " 5   CO_HABILIDADE  3150 non-null   object\n",
      " 6   TX_COR         3150 non-null   object\n",
      " 7   CO_PROVA       3150 non-null   object\n",
      "dtypes: object(8)\n",
      "memory usage: 197.0+ KB\n"
     ]
    }
   ],
   "source": [
    "itens_provas_mt_2010_2019.info()"
   ]
  },
  {
   "cell_type": "code",
   "execution_count": 42,
   "metadata": {},
   "outputs": [
    {
     "data": {
      "text/html": [
       "<div>\n",
       "<style scoped>\n",
       "    .dataframe tbody tr th:only-of-type {\n",
       "        vertical-align: middle;\n",
       "    }\n",
       "\n",
       "    .dataframe tbody tr th {\n",
       "        vertical-align: top;\n",
       "    }\n",
       "\n",
       "    .dataframe thead th {\n",
       "        text-align: right;\n",
       "    }\n",
       "</style>\n",
       "<table border=\"1\" class=\"dataframe\">\n",
       "  <thead>\n",
       "    <tr style=\"text-align: right;\">\n",
       "      <th></th>\n",
       "      <th>ANO_PROVA</th>\n",
       "      <th>CO_POSICAO</th>\n",
       "      <th>SG_AREA</th>\n",
       "      <th>CO_ITEM</th>\n",
       "      <th>TX_GABARITO</th>\n",
       "      <th>CO_HABILIDADE</th>\n",
       "      <th>TX_COR</th>\n",
       "      <th>CO_PROVA</th>\n",
       "    </tr>\n",
       "  </thead>\n",
       "  <tbody>\n",
       "    <tr>\n",
       "      <th>0</th>\n",
       "      <td>2010</td>\n",
       "      <td>136</td>\n",
       "      <td>MT</td>\n",
       "      <td>70114</td>\n",
       "      <td>C</td>\n",
       "      <td>1</td>\n",
       "      <td>AMARELO</td>\n",
       "      <td>97</td>\n",
       "    </tr>\n",
       "    <tr>\n",
       "      <th>1</th>\n",
       "      <td>2010</td>\n",
       "      <td>137</td>\n",
       "      <td>MT</td>\n",
       "      <td>72709</td>\n",
       "      <td>E</td>\n",
       "      <td>7</td>\n",
       "      <td>AMARELO</td>\n",
       "      <td>97</td>\n",
       "    </tr>\n",
       "    <tr>\n",
       "      <th>2</th>\n",
       "      <td>2010</td>\n",
       "      <td>138</td>\n",
       "      <td>MT</td>\n",
       "      <td>70700</td>\n",
       "      <td>E</td>\n",
       "      <td>11</td>\n",
       "      <td>AMARELO</td>\n",
       "      <td>97</td>\n",
       "    </tr>\n",
       "    <tr>\n",
       "      <th>3</th>\n",
       "      <td>2010</td>\n",
       "      <td>139</td>\n",
       "      <td>MT</td>\n",
       "      <td>70379</td>\n",
       "      <td>B</td>\n",
       "      <td>12</td>\n",
       "      <td>AMARELO</td>\n",
       "      <td>97</td>\n",
       "    </tr>\n",
       "    <tr>\n",
       "      <th>4</th>\n",
       "      <td>2010</td>\n",
       "      <td>140</td>\n",
       "      <td>MT</td>\n",
       "      <td>72470</td>\n",
       "      <td>C</td>\n",
       "      <td>25</td>\n",
       "      <td>AMARELO</td>\n",
       "      <td>97</td>\n",
       "    </tr>\n",
       "    <tr>\n",
       "      <th>...</th>\n",
       "      <td>...</td>\n",
       "      <td>...</td>\n",
       "      <td>...</td>\n",
       "      <td>...</td>\n",
       "      <td>...</td>\n",
       "      <td>...</td>\n",
       "      <td>...</td>\n",
       "      <td>...</td>\n",
       "    </tr>\n",
       "    <tr>\n",
       "      <th>3145</th>\n",
       "      <td>2019</td>\n",
       "      <td>176</td>\n",
       "      <td>MT</td>\n",
       "      <td>63359</td>\n",
       "      <td>B</td>\n",
       "      <td>9</td>\n",
       "      <td>Rosa</td>\n",
       "      <td>558</td>\n",
       "    </tr>\n",
       "    <tr>\n",
       "      <th>3146</th>\n",
       "      <td>2019</td>\n",
       "      <td>177</td>\n",
       "      <td>MT</td>\n",
       "      <td>15171</td>\n",
       "      <td>D</td>\n",
       "      <td>25</td>\n",
       "      <td>Rosa</td>\n",
       "      <td>558</td>\n",
       "    </tr>\n",
       "    <tr>\n",
       "      <th>3147</th>\n",
       "      <td>2019</td>\n",
       "      <td>178</td>\n",
       "      <td>MT</td>\n",
       "      <td>97573</td>\n",
       "      <td>E</td>\n",
       "      <td>10</td>\n",
       "      <td>Rosa</td>\n",
       "      <td>558</td>\n",
       "    </tr>\n",
       "    <tr>\n",
       "      <th>3148</th>\n",
       "      <td>2019</td>\n",
       "      <td>179</td>\n",
       "      <td>MT</td>\n",
       "      <td>25163</td>\n",
       "      <td>D</td>\n",
       "      <td>25</td>\n",
       "      <td>Rosa</td>\n",
       "      <td>558</td>\n",
       "    </tr>\n",
       "    <tr>\n",
       "      <th>3149</th>\n",
       "      <td>2019</td>\n",
       "      <td>180</td>\n",
       "      <td>MT</td>\n",
       "      <td>81332</td>\n",
       "      <td>E</td>\n",
       "      <td>9</td>\n",
       "      <td>Rosa</td>\n",
       "      <td>558</td>\n",
       "    </tr>\n",
       "  </tbody>\n",
       "</table>\n",
       "<p>3150 rows × 8 columns</p>\n",
       "</div>"
      ],
      "text/plain": [
       "     ANO_PROVA CO_POSICAO SG_AREA CO_ITEM TX_GABARITO CO_HABILIDADE   TX_COR  \\\n",
       "0         2010        136      MT   70114           C             1  AMARELO   \n",
       "1         2010        137      MT   72709           E             7  AMARELO   \n",
       "2         2010        138      MT   70700           E            11  AMARELO   \n",
       "3         2010        139      MT   70379           B            12  AMARELO   \n",
       "4         2010        140      MT   72470           C            25  AMARELO   \n",
       "...        ...        ...     ...     ...         ...           ...      ...   \n",
       "3145      2019        176      MT   63359           B             9     Rosa   \n",
       "3146      2019        177      MT   15171           D            25     Rosa   \n",
       "3147      2019        178      MT   97573           E            10     Rosa   \n",
       "3148      2019        179      MT   25163           D            25     Rosa   \n",
       "3149      2019        180      MT   81332           E             9     Rosa   \n",
       "\n",
       "     CO_PROVA  \n",
       "0          97  \n",
       "1          97  \n",
       "2          97  \n",
       "3          97  \n",
       "4          97  \n",
       "...       ...  \n",
       "3145      558  \n",
       "3146      558  \n",
       "3147      558  \n",
       "3148      558  \n",
       "3149      558  \n",
       "\n",
       "[3150 rows x 8 columns]"
      ]
     },
     "execution_count": 42,
     "metadata": {},
     "output_type": "execute_result"
    }
   ],
   "source": [
    "itens_provas_mt_2010_2019"
   ]
  },
  {
   "cell_type": "markdown",
   "metadata": {},
   "source": [
    "### Verificando a integridade dos dados"
   ]
  },
  {
   "cell_type": "markdown",
   "metadata": {},
   "source": [
    "Mostrando que todos os anos foram adicionados na tabela final"
   ]
  },
  {
   "cell_type": "code",
   "execution_count": 43,
   "metadata": {
    "scrolled": true
   },
   "outputs": [
    {
     "data": {
      "text/plain": [
       "2010    180\n",
       "2011    225\n",
       "2012    225\n",
       "2013    180\n",
       "2014    180\n",
       "2015    180\n",
       "2016    630\n",
       "2017    450\n",
       "2018    450\n",
       "2019    450\n",
       "Name: ANO_PROVA, dtype: int64"
      ]
     },
     "execution_count": 43,
     "metadata": {},
     "output_type": "execute_result"
    }
   ],
   "source": [
    "itens_provas_mt_2010_2019['ANO_PROVA'].value_counts(sort=False)"
   ]
  },
  {
   "cell_type": "markdown",
   "metadata": {},
   "source": [
    "Vamos verificar os valores dos códigos das posições"
   ]
  },
  {
   "cell_type": "code",
   "execution_count": 44,
   "metadata": {},
   "outputs": [
    {
     "data": {
      "text/plain": [
       "count     3150\n",
       "unique     180\n",
       "top        136\n",
       "freq        36\n",
       "Name: CO_POSICAO, dtype: int64"
      ]
     },
     "execution_count": 44,
     "metadata": {},
     "output_type": "execute_result"
    }
   ],
   "source": [
    "itens_provas_mt_2010_2019['CO_POSICAO'].describe()"
   ]
  },
  {
   "cell_type": "markdown",
   "metadata": {},
   "source": [
    "Desta forma, das 3150 linhas da tabela final, apenas 732 são únicas, ou seja, apenas 732 itens de Matemática diferentes foram utilizados nas provas dos últimos 10 anos"
   ]
  },
  {
   "cell_type": "markdown",
   "metadata": {},
   "source": [
    "Vamos conferir se todos os itens são realmente da área de Matemática e Suas Tecnologias"
   ]
  },
  {
   "cell_type": "code",
   "execution_count": 45,
   "metadata": {},
   "outputs": [
    {
     "data": {
      "text/plain": [
       "array(['MT'], dtype=object)"
      ]
     },
     "execution_count": 45,
     "metadata": {},
     "output_type": "execute_result"
    }
   ],
   "source": [
    "itens_provas_mt_2010_2019['SG_AREA'].unique()"
   ]
  },
  {
   "cell_type": "markdown",
   "metadata": {},
   "source": [
    "Como os itens são repetidos e trocados de ordem em provas com as cores diferentes, vamos verificar a quantidade de itens únicos utilizando a coluna com o código do item (\"CO_ITEM\")"
   ]
  },
  {
   "cell_type": "code",
   "execution_count": 46,
   "metadata": {},
   "outputs": [
    {
     "data": {
      "text/plain": [
       "count      3150\n",
       "unique      732\n",
       "top       32010\n",
       "freq          9\n",
       "Name: CO_ITEM, dtype: int64"
      ]
     },
     "execution_count": 46,
     "metadata": {},
     "output_type": "execute_result"
    }
   ],
   "source": [
    "itens_provas_mt_2010_2019['CO_ITEM'].describe()"
   ]
  },
  {
   "cell_type": "markdown",
   "metadata": {},
   "source": [
    "Vamos verificar se as letras presentes no texto do gabarito são apenas letras de A até E e a letra X para os itens anulados"
   ]
  },
  {
   "cell_type": "code",
   "execution_count": 47,
   "metadata": {},
   "outputs": [
    {
     "data": {
      "text/plain": [
       "array(['C', 'E', 'B', 'D', 'A', 'X'], dtype=object)"
      ]
     },
     "execution_count": 47,
     "metadata": {},
     "output_type": "execute_result"
    }
   ],
   "source": [
    "itens_provas_mt_2010_2019['TX_GABARITO'].unique()"
   ]
  },
  {
   "cell_type": "markdown",
   "metadata": {},
   "source": [
    "Agora vamos verificar as cores das provas"
   ]
  },
  {
   "cell_type": "code",
   "execution_count": 48,
   "metadata": {},
   "outputs": [
    {
     "data": {
      "text/plain": [
       "AMARELA          360\n",
       "AMARELO           45\n",
       "AZUL             405\n",
       "Amarela          180\n",
       "Amarelo           90\n",
       "Azul             225\n",
       "Azul              45\n",
       "CINZA            495\n",
       "Cinza            225\n",
       "Cinza             90\n",
       "Cinza (Ledor)     45\n",
       "LARANJA           45\n",
       "Laranja           90\n",
       "ROSA             405\n",
       "Rosa             225\n",
       "Rosa              45\n",
       "VERDE             45\n",
       "Verde             90\n",
       "Name: TX_COR, dtype: int64"
      ]
     },
     "execution_count": 48,
     "metadata": {},
     "output_type": "execute_result"
    }
   ],
   "source": [
    "itens_provas_mt_2010_2019['TX_COR'].value_counts().sort_index()"
   ]
  },
  {
   "cell_type": "markdown",
   "metadata": {},
   "source": [
    "Para padronizar os nomes das cores, vamos retirar o texto \"(Ledor)\" da cor \"Cinza (Ledor)\""
   ]
  },
  {
   "cell_type": "code",
   "execution_count": 49,
   "metadata": {},
   "outputs": [],
   "source": [
    "itens_provas_mt_2010_2019['TX_COR'][itens_provas_mt_2010_2019['TX_COR'] == 'Cinza (Ledor)'] = 'Cinza'"
   ]
  },
  {
   "cell_type": "markdown",
   "metadata": {},
   "source": [
    "Agora vamos colocar todos os nomes com letras maíusculas"
   ]
  },
  {
   "cell_type": "code",
   "execution_count": 50,
   "metadata": {},
   "outputs": [],
   "source": [
    "itens_provas_mt_2010_2019['TX_COR'] = itens_provas_mt_2010_2019['TX_COR'].str.upper()"
   ]
  },
  {
   "cell_type": "markdown",
   "metadata": {},
   "source": [
    "Mostrando as cores novamente"
   ]
  },
  {
   "cell_type": "code",
   "execution_count": 51,
   "metadata": {},
   "outputs": [
    {
     "data": {
      "text/plain": [
       "AMARELA    540\n",
       "AMARELO    135\n",
       "AZUL       630\n",
       "AZUL        45\n",
       "CINZA      765\n",
       "CINZA       90\n",
       "LARANJA    135\n",
       "ROSA       630\n",
       "ROSA        45\n",
       "VERDE      135\n",
       "Name: TX_COR, dtype: int64"
      ]
     },
     "execution_count": 51,
     "metadata": {},
     "output_type": "execute_result"
    }
   ],
   "source": [
    "itens_provas_mt_2010_2019['TX_COR'].value_counts().sort_index()"
   ]
  },
  {
   "cell_type": "markdown",
   "metadata": {},
   "source": [
    "Agora vamos mudar a cor \"AMARELO\" para \"AMARELA\""
   ]
  },
  {
   "cell_type": "code",
   "execution_count": 52,
   "metadata": {},
   "outputs": [],
   "source": [
    "itens_provas_mt_2010_2019['TX_COR'][itens_provas_mt_2010_2019['TX_COR'] == 'AMARELO'] = 'AMARELA'"
   ]
  },
  {
   "cell_type": "markdown",
   "metadata": {},
   "source": [
    "Agora vamos verificar a razão das cores \"AZUL\", \"CINZA\" e \"ROSA\" aparecerem duas vezes"
   ]
  },
  {
   "cell_type": "code",
   "execution_count": 53,
   "metadata": {},
   "outputs": [
    {
     "data": {
      "text/plain": [
       "array(['AMARELA', 'CINZA', 'AZUL', 'ROSA', 'CINZA  ', 'ROSA   ',\n",
       "       'AZUL   ', 'LARANJA', 'VERDE'], dtype=object)"
      ]
     },
     "execution_count": 53,
     "metadata": {},
     "output_type": "execute_result"
    }
   ],
   "source": [
    "itens_provas_mt_2010_2019['TX_COR'].unique()"
   ]
  },
  {
   "cell_type": "markdown",
   "metadata": {},
   "source": [
    "Como pode ser observado, as cores aparecem duas vezes porque estão com espaços em branco no final. Vamos corrigir."
   ]
  },
  {
   "cell_type": "code",
   "execution_count": 54,
   "metadata": {},
   "outputs": [],
   "source": [
    "itens_provas_mt_2010_2019['TX_COR'] = itens_provas_mt_2010_2019['TX_COR'].str.strip()"
   ]
  },
  {
   "cell_type": "markdown",
   "metadata": {},
   "source": [
    "Mostrando novamente as cores após os ajustes"
   ]
  },
  {
   "cell_type": "code",
   "execution_count": 55,
   "metadata": {},
   "outputs": [
    {
     "data": {
      "text/plain": [
       "AMARELA    675\n",
       "AZUL       675\n",
       "CINZA      855\n",
       "LARANJA    135\n",
       "ROSA       675\n",
       "VERDE      135\n",
       "Name: TX_COR, dtype: int64"
      ]
     },
     "execution_count": 55,
     "metadata": {},
     "output_type": "execute_result"
    }
   ],
   "source": [
    "itens_provas_mt_2010_2019['TX_COR'].value_counts().sort_index()"
   ]
  },
  {
   "cell_type": "markdown",
   "metadata": {},
   "source": [
    "Verificando se os valores dos códigos de habilidade são números de 1 a 30"
   ]
  },
  {
   "cell_type": "code",
   "execution_count": 56,
   "metadata": {},
   "outputs": [
    {
     "data": {
      "text/plain": [
       "array([1, 7, 11, 12, 25, 15, 26, 24, 10, 6, 20, 19, 17, 9, 16, 4, 3, 30,\n",
       "       14, 23, 8, 22, 21, 27, 13, 5, 29, 28, 18, 2, ' 1', '10', '21',\n",
       "       ' 5', '17', '12', '13', '11', ' 7', '27', '22', '23', ' 8', '18',\n",
       "       '15', ' 4', '25', '19', ' 2', ' 3', '30', '16', '26', ' 9', '29',\n",
       "       '28', '24', ' 6', '20', '14'], dtype=object)"
      ]
     },
     "execution_count": 56,
     "metadata": {},
     "output_type": "execute_result"
    }
   ],
   "source": [
    "itens_provas_mt_2010_2019['CO_HABILIDADE'].unique()"
   ]
  },
  {
   "cell_type": "markdown",
   "metadata": {},
   "source": [
    "Modificando o tipo dos dados da coluna \"CO_HABILIDADE\""
   ]
  },
  {
   "cell_type": "code",
   "execution_count": 57,
   "metadata": {},
   "outputs": [],
   "source": [
    "itens_provas_mt_2010_2019['CO_HABILIDADE'] = itens_provas_mt_2010_2019['CO_HABILIDADE'].astype('int64')"
   ]
  },
  {
   "cell_type": "markdown",
   "metadata": {},
   "source": [
    "Vamos verificar se a alteração foi realizada"
   ]
  },
  {
   "cell_type": "code",
   "execution_count": 58,
   "metadata": {},
   "outputs": [
    {
     "data": {
      "text/plain": [
       "array([ 1,  7, 11, 12, 25, 15, 26, 24, 10,  6, 20, 19, 17,  9, 16,  4,  3,\n",
       "       30, 14, 23,  8, 22, 21, 27, 13,  5, 29, 28, 18,  2], dtype=int64)"
      ]
     },
     "execution_count": 58,
     "metadata": {},
     "output_type": "execute_result"
    }
   ],
   "source": [
    "itens_provas_mt_2010_2019['CO_HABILIDADE'].unique()"
   ]
  },
  {
   "cell_type": "markdown",
   "metadata": {},
   "source": [
    "Agora vamos verificar os códigos das provas "
   ]
  },
  {
   "cell_type": "code",
   "execution_count": 59,
   "metadata": {},
   "outputs": [
    {
     "data": {
      "text/plain": [
       "array([97, 98, 99, 100, '130', '129', '132', '131', '136', 149, 150, 151,\n",
       "       152, 156, 179, 180, 181, 182, 207, 208, 209, 210, 243, 244, 245,\n",
       "       246, 304, 306, 303, 305, 310, 347, 349, 346, 348, 367, 369, 366,\n",
       "       368, 370, 404, 406, 403, 405, 410, 443, 444, 445, 446, 414, 461,\n",
       "       459, 462, 460, 470, 466, 499, 500, 501, 502, 515, 516, 517, 518,\n",
       "       522, 526, 555, 556, 557, 558], dtype=object)"
      ]
     },
     "execution_count": 59,
     "metadata": {},
     "output_type": "execute_result"
    }
   ],
   "source": [
    "itens_provas_mt_2010_2019['CO_PROVA'].unique()"
   ]
  },
  {
   "cell_type": "markdown",
   "metadata": {},
   "source": [
    "Os códigos das provas 129 a 136 foram armazenados na forma de texto (string). Desta forma, vamos mudar os tipos dos valores para numeros inteiros"
   ]
  },
  {
   "cell_type": "code",
   "execution_count": 60,
   "metadata": {},
   "outputs": [],
   "source": [
    "itens_provas_mt_2010_2019['CO_PROVA'] = itens_provas_mt_2010_2019['CO_PROVA'].astype('int64')"
   ]
  },
  {
   "cell_type": "markdown",
   "metadata": {},
   "source": [
    "Vamos verificar se a alteração foi realizada"
   ]
  },
  {
   "cell_type": "code",
   "execution_count": 61,
   "metadata": {},
   "outputs": [
    {
     "data": {
      "text/plain": [
       "array([ 97,  98,  99, 100, 130, 129, 132, 131, 136, 149, 150, 151, 152,\n",
       "       156, 179, 180, 181, 182, 207, 208, 209, 210, 243, 244, 245, 246,\n",
       "       304, 306, 303, 305, 310, 347, 349, 346, 348, 367, 369, 366, 368,\n",
       "       370, 404, 406, 403, 405, 410, 443, 444, 445, 446, 414, 461, 459,\n",
       "       462, 460, 470, 466, 499, 500, 501, 502, 515, 516, 517, 518, 522,\n",
       "       526, 555, 556, 557, 558], dtype=int64)"
      ]
     },
     "execution_count": 61,
     "metadata": {},
     "output_type": "execute_result"
    }
   ],
   "source": [
    "itens_provas_mt_2010_2019['CO_PROVA'].unique()"
   ]
  }
 ],
 "metadata": {
  "kernelspec": {
   "display_name": "Python 3",
   "language": "python",
   "name": "python3"
  },
  "language_info": {
   "codemirror_mode": {
    "name": "ipython",
    "version": 3
   },
   "file_extension": ".py",
   "mimetype": "text/x-python",
   "name": "python",
   "nbconvert_exporter": "python",
   "pygments_lexer": "ipython3",
   "version": "3.7.10"
  }
 },
 "nbformat": 4,
 "nbformat_minor": 4
}
