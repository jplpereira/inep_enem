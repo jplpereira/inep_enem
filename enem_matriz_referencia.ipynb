{
 "cells": [
  {
   "cell_type": "markdown",
   "source": [
    "# ENEM - Análise textual e extração da matriz de referência de 2010 até 2019"
   ],
   "metadata": {}
  },
  {
   "cell_type": "markdown",
   "source": [
    "## Configurações do notebook"
   ],
   "metadata": {}
  },
  {
   "cell_type": "markdown",
   "source": [
    "### Importação dos pacotes"
   ],
   "metadata": {}
  },
  {
   "cell_type": "code",
   "execution_count": 1,
   "source": [
    "from PyPDF2 import PdfFileReader"
   ],
   "outputs": [],
   "metadata": {}
  },
  {
   "cell_type": "code",
   "execution_count": 2,
   "source": [
    "from re import sub, split, match"
   ],
   "outputs": [],
   "metadata": {}
  },
  {
   "cell_type": "code",
   "execution_count": 3,
   "source": [
    "from json import dump"
   ],
   "outputs": [],
   "metadata": {}
  },
  {
   "cell_type": "markdown",
   "source": [
    "### Criação do dicionário contendo os caminhos dos arquivos de cada ano"
   ],
   "metadata": {}
  },
  {
   "cell_type": "code",
   "execution_count": 4,
   "source": [
    "arquivos_matriz_referencia = {\r\n",
    "    2010: '../2010/Leia-me e Documentos Técnico/Matriz_Referencia_Enem.pdf',\r\n",
    "    2011: '../2011/Matriz_Referencia_Enem.pdf',\r\n",
    "    2012: '../2012/Matriz_Referencia_Enem.pdf',\r\n",
    "    2013: '../2013/LEIA-ME e DOCUMENTOS TÉCNICOS/Matriz_Referencia_Enem.pdf',\r\n",
    "    2014: '../2014/LEIA-ME e DOCUMENTOS TÉCNICOS/Matriz_Referencia_Enem.pdf',\r\n",
    "    2015: '../2015/LEIA-ME e DOCUMENTOS TÉCNICOS/Matriz_Referencia_Enem.pdf',\r\n",
    "    2016: '../2016/LEIA-ME e DOCUMENTOS TÉCNICOS/matriz_referencia_enem.pdf',\r\n",
    "    2017: '../2017/LEIA-ME e DOCUMENTOS TÉCNICOS/Matriz_Referencia_Enem.pdf',\r\n",
    "    2018: '../2018/LEIA-ME e DOCUMENTOS TÉCNICOS/matriz_referencia.pdf',\r\n",
    "    2019: '../2019/LEIA-ME e DOCUMENTOS TÉCNICOS/matriz_referencia_enem.pdf',\r\n",
    "}"
   ],
   "outputs": [],
   "metadata": {}
  },
  {
   "cell_type": "markdown",
   "source": [
    "## Analisando o texto dos arquivos"
   ],
   "metadata": {}
  },
  {
   "cell_type": "markdown",
   "source": [
    "### Abrindo os arquivos e inseri-los em um novo dicionário"
   ],
   "metadata": {}
  },
  {
   "cell_type": "markdown",
   "source": [
    "Declarando uma função para extrair os textos de cada página e juntar em uma variável única"
   ],
   "metadata": {}
  },
  {
   "cell_type": "code",
   "execution_count": 5,
   "source": [
    "def extrair_texto(arquivo_leitura_pdf):\r\n",
    "    '''Extrai o texto de cada uma das páginas do arquivo PDF e retorna um texto único'''\r\n",
    "    texto_arquivo = ''\r\n",
    "    for pagina in range(arquivo_leitura_pdf.getNumPages()):\r\n",
    "        texto_pagina = arquivo_leitura_pdf.getPage(pagina).extractText()\r\n",
    "        texto_arquivo += texto_pagina\r\n",
    "    return texto_arquivo"
   ],
   "outputs": [],
   "metadata": {}
  },
  {
   "cell_type": "markdown",
   "source": [
    "Declarando uma função para abrir os arquivos e inseri-los em um novo dicionário"
   ],
   "metadata": {}
  },
  {
   "cell_type": "code",
   "execution_count": 6,
   "source": [
    "def extrair_textos_arquivos(arquivos_matriz_referencia: dict) -> list:\r\n",
    "    '''Abre os arquivos, inicializá-os como arquivo de leitura de PDF e extrai seu texto'''\r\n",
    "    textos_arquivos = {}\r\n",
    "    for ano in arquivos_matriz_referencia:\r\n",
    "        arquivo_aberto = open(arquivos_matriz_referencia[ano], 'rb')\r\n",
    "        arquivo_leitura_pdf = PdfFileReader(arquivo_aberto)\r\n",
    "        texto_arquivo = extrair_texto(arquivo_leitura_pdf)\r\n",
    "        textos_arquivos[ano] = texto_arquivo\r\n",
    "        print(f\"Texto do arquivo da matriz do ano de {ano} incluído no novo dicionário\")\r\n",
    "    return textos_arquivos"
   ],
   "outputs": [],
   "metadata": {}
  },
  {
   "cell_type": "markdown",
   "source": [
    "Extraindo os textos dos arquivos usando a função criada"
   ],
   "metadata": {}
  },
  {
   "cell_type": "code",
   "execution_count": 7,
   "source": [
    "textos_arquivos = extrair_textos_arquivos(arquivos_matriz_referencia)"
   ],
   "outputs": [
    {
     "output_type": "stream",
     "name": "stdout",
     "text": [
      "Texto do arquivo da matriz do ano de 2010 incluído no novo dicionário\n",
      "Texto do arquivo da matriz do ano de 2011 incluído no novo dicionário\n",
      "Texto do arquivo da matriz do ano de 2012 incluído no novo dicionário\n",
      "Texto do arquivo da matriz do ano de 2013 incluído no novo dicionário\n",
      "Texto do arquivo da matriz do ano de 2014 incluído no novo dicionário\n",
      "Texto do arquivo da matriz do ano de 2015 incluído no novo dicionário\n",
      "Texto do arquivo da matriz do ano de 2016 incluído no novo dicionário\n",
      "Texto do arquivo da matriz do ano de 2017 incluído no novo dicionário\n",
      "Texto do arquivo da matriz do ano de 2018 incluído no novo dicionário\n",
      "Texto do arquivo da matriz do ano de 2019 incluído no novo dicionário\n"
     ]
    }
   ],
   "metadata": {}
  },
  {
   "cell_type": "markdown",
   "source": [
    "Declarando uma função para verificar se os textos são iguais"
   ],
   "metadata": {}
  },
  {
   "cell_type": "code",
   "execution_count": 8,
   "source": [
    "def verificar_igualdade_textos(textos_arquivos: dict) -> None:\r\n",
    "    '''Verifica se os textos dos arquivos das matrizes de referência são iguais'''\r\n",
    "    anos = [ano for ano in textos_arquivos]\r\n",
    "    for indice, ano in enumerate(anos[:-1]):\r\n",
    "        if textos_arquivos[ano] == textos_arquivos[anos[indice + 1]]:\r\n",
    "            resultado = 'iguais'\r\n",
    "        else:\r\n",
    "            resultado = 'diferentes'\r\n",
    "        print(f\"Texto dos anos de {ano} e {ano + 1} são {resultado}\")"
   ],
   "outputs": [],
   "metadata": {}
  },
  {
   "cell_type": "markdown",
   "source": [
    "Verificando a igualdade dos textos usando a função criada"
   ],
   "metadata": {}
  },
  {
   "cell_type": "code",
   "execution_count": 9,
   "source": [
    "verificar_igualdade_textos(textos_arquivos)"
   ],
   "outputs": [
    {
     "output_type": "stream",
     "name": "stdout",
     "text": [
      "Texto dos anos de 2010 e 2011 são iguais\n",
      "Texto dos anos de 2011 e 2012 são iguais\n",
      "Texto dos anos de 2012 e 2013 são iguais\n",
      "Texto dos anos de 2013 e 2014 são iguais\n",
      "Texto dos anos de 2014 e 2015 são iguais\n",
      "Texto dos anos de 2015 e 2016 são iguais\n",
      "Texto dos anos de 2016 e 2017 são iguais\n",
      "Texto dos anos de 2017 e 2018 são iguais\n",
      "Texto dos anos de 2018 e 2019 são iguais\n"
     ]
    }
   ],
   "metadata": {}
  },
  {
   "cell_type": "markdown",
   "source": [
    "## Extração das habilidades da matriz de referência do ano de 2019"
   ],
   "metadata": {}
  },
  {
   "cell_type": "markdown",
   "source": [
    "Uma vez que todos os arquivos das matrizes dos anos de 2010 até 2019 possuem o mesmo texto, podemos extrair as habilidades apenas do arquivo do ano de 2019."
   ],
   "metadata": {}
  },
  {
   "cell_type": "markdown",
   "source": [
    "Criando um objeto com textos dos títulos de cada uma das provas para utilizá-los como ponto de corte das competências e das habilidades"
   ],
   "metadata": {}
  },
  {
   "cell_type": "code",
   "execution_count": 10,
   "source": [
    "titulos_provas = {\r\n",
    "    'LC': 'Matriz de Referência de Linguagens, Códigos e suas Tecnologias',\r\n",
    "    'MT': 'Matriz de Referência de Matemática e suas Tecnologias',\r\n",
    "    'CN': 'Matriz de Referência de Ciências da Natureza e suas Tecnologias',\r\n",
    "    'CH': 'Matriz de Referência de Ciências Humanas e suas Tecnologias'\r\n",
    "}"
   ],
   "outputs": [],
   "metadata": {}
  },
  {
   "cell_type": "markdown",
   "source": [
    "### Extraindo o texto das matrizes de referência das provas do ano de 2019"
   ],
   "metadata": {}
  },
  {
   "cell_type": "markdown",
   "source": [
    "Excluindo o caractere de quebra de linha (\"\\n\")"
   ],
   "metadata": {}
  },
  {
   "cell_type": "code",
   "execution_count": 11,
   "source": [
    "texto_matriz_2019 = textos_arquivos[2019].replace('\\n', '')"
   ],
   "outputs": [],
   "metadata": {}
  },
  {
   "cell_type": "markdown",
   "source": [
    "Substituindo o espaço duplo por simples"
   ],
   "metadata": {}
  },
  {
   "cell_type": "code",
   "execution_count": 12,
   "source": [
    "texto_matriz_2019 = texto_matriz_2019.replace('  ', ' ')"
   ],
   "outputs": [],
   "metadata": {}
  },
  {
   "cell_type": "markdown",
   "source": [
    "Declarando uma função para separar o texto de cada prova e salvá-lo em um novo dicionário"
   ],
   "metadata": {}
  },
  {
   "cell_type": "code",
   "execution_count": 13,
   "source": [
    "def separar_texto_prova(texto_matriz: str, titulos_provas: dict) -> dict:\r\n",
    "    '''Separa os textos das provas usando os títulos para definir os pontos de corte'''\r\n",
    "    siglas_provas = [sigla_prova for sigla_prova in titulos_provas]\r\n",
    "    textos_provas = {}\r\n",
    "    for indice, sigla_prova in enumerate(siglas_provas):\r\n",
    "        titulo_prova = titulos_provas[sigla_prova]\r\n",
    "        if indice + 1 < len(titulos_provas):\r\n",
    "            texto_limite = titulos_provas[siglas_provas[indice + 1]]\r\n",
    "        else:\r\n",
    "            texto_limite = 'ANEXO'\r\n",
    "        texto_prova = texto_matriz.partition(titulos_provas[sigla_prova])[2].partition(texto_limite)[0]\r\n",
    "        textos_provas[sigla_prova] = titulo_prova + texto_prova\r\n",
    "        print(f\"Texto da prova de {sigla_prova} extraído com sucesso\")\r\n",
    "    return textos_provas "
   ],
   "outputs": [],
   "metadata": {}
  },
  {
   "cell_type": "markdown",
   "source": [
    "Separando os textos usando a função criada"
   ],
   "metadata": {}
  },
  {
   "cell_type": "code",
   "execution_count": 14,
   "source": [
    "textos_provas = separar_texto_prova(texto_matriz_2019, titulos_provas)"
   ],
   "outputs": [
    {
     "output_type": "stream",
     "name": "stdout",
     "text": [
      "Texto da prova de LC extraído com sucesso\n",
      "Texto da prova de MT extraído com sucesso\n",
      "Texto da prova de CN extraído com sucesso\n",
      "Texto da prova de CH extraído com sucesso\n"
     ]
    }
   ],
   "metadata": {}
  },
  {
   "cell_type": "markdown",
   "source": [
    "Mostrando o texto separado da prova de Matemática e suas Tecnologias"
   ],
   "metadata": {}
  },
  {
   "cell_type": "code",
   "execution_count": 15,
   "source": [
    "textos_provas['MT']"
   ],
   "outputs": [
    {
     "output_type": "execute_result",
     "data": {
      "text/plain": [
       "'Matriz de Referência de Matemática e suas Tecnologias Competência de área 1 - Construir significados para os números naturais, inteiros, racionais e reais. H1 - Reconhecer, no contexto social, diferentes significados e representações dos números e operações - naturais, inteiros, racionais ou reais. H2 - Identificar padrões numéricos ou princípios de contagem. H3 - Resolver situação-problema envolvendo conhecimentos numéricos. H4 - Avaliar a razoabilidade de um resultado numérico na construção de argumentos sobre afirmações quantitativas. H5 - Avaliar propostas de intervenção na realidade utilizando conhecimentos numéricos. Competência de área 2 - Utilizar o conhecimento geométrico para realizar a leitura e a representação da realidade e agir sobre ela. H6 - Interpretar a localização e a movimentação de pessoas/objetos no espaço tridimensional e sua representação no espaço bidimensional. H7 - Identificar características de figuras planas ou espaciais. H8 - Resolver situação-problema que envolva conhecimentos geométricos de espaço e forma. H9 - Utilizar conhecimentos geométricos de espaço e forma na seleção de argumentos propostos como solução de problemas do cotidiano. Competência de área 3 - Construir noções de grandezas e medidas para a compreensão da realidade e a solução de problemas do cotidiano. H10 - Identificar relações entre grandezas e unidades de medida. H11 - Utilizar a noção de escalas na leitura de representação de situação do cotidiano. H12 - Resolver situação-problema que envolva medidas de grandezas. H13 - Avaliar o resultado de uma medição na construção de um argumento consistente. H14 - Avaliar proposta de intervenção na realidade utilizando conhecimentos geométricos relacionados a grandezas e medidas. Competência de área 4 - Construir noções de variação de grandezas para a compreensão da realidade e a solução de problemas do cotidiano. H15 - Identificar a relação de dependência entre grandezas. H16 - Resolver situação-problema envolvendo a variação de grandezas, direta ou inversamente proporcionais. H17 - Analisar informações envolvendo a variação de grandezas como recurso para a construção de argumentação. H18 - Avaliar propostas de intervenção na realidade envolvendo variação de grandezas. Competência de área 5 - Modelar e resolver problemas que envolvem variáveis socioeconômicas ou técnico-científicas, usando representações algébricas. H19 - Identificar representações algébricas que expressem a relação entre grandezas. H20 - Interpretar gráfico cartesiano que represente relações entre grandezas. H21 - Resolver situação-problema cuja modelagem envolva conhecimentos algébricos. H22 - Utilizar conhecimentos algébricos/geométricos como recurso para a construção de argumentação. H23 - Avaliar propostas de intervenção na realidade utilizando conhecimentos algébricos. Competência de área 6 - Interpretar informações de natureza científica e social obtidas da leitura de gráficos e tabelas, realizando previsão de tendência, extrapolação, interpolação e interpretação. H24 - Utilizar informações expressas em gráficos ou tabelas para fazer inferências. H25 - Resolver problema com dados apresentados em tabelas ou gráficos. H26 - Analisar informações expressas em gráficos ou tabelas como recurso para a construção de argumentos.  Competência de área 7 - Compreender o caráter aleatório e não-determinístico dos fenômenos naturais e sociais e utilizar instrumentos adequados para medidas, determinação de amostras e cálculos de probabilidade para interpretar informações de variáveis apresentadas em uma distribuição estatística. H27 - Calcular medidas de tendência central ou de dispersão de um conjunto de dados expressos em uma tabela de frequências de dados agrupados (não em classes) ou em gráficos. H28 - Resolver situação-problema que envolva conhecimentos de estatística e probabilidade. H29 - Utilizar conhecimentos de estatística e probabilidade como recurso para a construção de argumentação. H30 - Avaliar propostas de intervenção na realidade utilizando conhecimentos de estatística e probabilidade.  '"
      ]
     },
     "metadata": {},
     "execution_count": 15
    }
   ],
   "metadata": {}
  },
  {
   "cell_type": "markdown",
   "source": [
    "### Construindo os objetos com as matrizes de cada prova"
   ],
   "metadata": {}
  },
  {
   "cell_type": "markdown",
   "source": [
    "Declarando uma função para construir o dicionário da matriz das provas"
   ],
   "metadata": {}
  },
  {
   "cell_type": "code",
   "execution_count": 16,
   "source": [
    "def construir_matriz_prova(texto: str) -> dict:\n",
    "    '''Constrói o dicionário contendo os dados da matriz de referência de uma prova'''\n",
    "    texto_com_quebra = sub(r\"(Competência de área \\d{1,2} ?-? )|(H\\d{1,2})\", r\"\\n\\g<0>\", texto)\n",
    "    lista_itens = split(r\" \\n\", texto_com_quebra)\n",
    "    lista_competencias = []\n",
    "    lista_habilidades = []\n",
    "    for item in lista_itens[1:]:\n",
    "        if item.startswith('Competência'):\n",
    "            grupos = match(r\"Competência de área (\\d{1,2}) ?-? (.*)\\.?\", item).groups()\n",
    "            nova_competencia = {\n",
    "                'id_competencia': grupos[0],\n",
    "                'texto_competencia': grupos[1].strip(),\n",
    "            }\n",
    "            lista_competencias.append(nova_competencia)\n",
    "        elif item.startswith('H'):\n",
    "            grupos = match(r\"H(\\d{1,2}) ?-? (.*)\\.?\", item).groups()\n",
    "            nova_habilidade = {\n",
    "                'id_habilidade': grupos[0],\n",
    "                'texto_habilidade': grupos[1].strip(),\n",
    "                'id_competencia': lista_competencias[-1]['id_competencia'],\n",
    "            }\n",
    "            lista_habilidades.append(nova_habilidade)\n",
    "    matriz = {\n",
    "        'titulo': lista_itens[0],\n",
    "        'competencias': lista_competencias,\n",
    "        'habilidades': lista_habilidades,\n",
    "    }\n",
    "    return matriz"
   ],
   "outputs": [],
   "metadata": {}
  },
  {
   "cell_type": "markdown",
   "source": [
    "Declarando uma função para construir todas as matrizes das provas e armazenar num novo dicionário"
   ],
   "metadata": {}
  },
  {
   "cell_type": "code",
   "execution_count": 17,
   "source": [
    "def construir_todas_matrizes(textos_provas: dict) -> dict:\n",
    "    '''Constrói o dicionário contendo todos os dicionários com os dados das matrizes de referência das provas'''\n",
    "    dicionario_matrizes = {}\n",
    "    for sigla_prova in textos_provas:\n",
    "        matriz_prova = construir_matriz_prova(textos_provas[sigla_prova])\n",
    "        dicionario_matrizes[sigla_prova] = matriz_prova\n",
    "        print(f\"Matriz da prova {sigla_prova} construído com sucesso\")\n",
    "    return dicionario_matrizes        "
   ],
   "outputs": [],
   "metadata": {}
  },
  {
   "cell_type": "markdown",
   "source": [
    "Construindo todas as matrizes usando a função criada"
   ],
   "metadata": {}
  },
  {
   "cell_type": "code",
   "execution_count": 18,
   "source": [
    "matrizes = construir_todas_matrizes(textos_provas)"
   ],
   "outputs": [
    {
     "output_type": "stream",
     "name": "stdout",
     "text": [
      "Matriz da prova LC construído com sucesso\n",
      "Matriz da prova MT construído com sucesso\n",
      "Matriz da prova CN construído com sucesso\n",
      "Matriz da prova CH construído com sucesso\n"
     ]
    }
   ],
   "metadata": {}
  },
  {
   "cell_type": "markdown",
   "source": [
    "Mostrando a matriz da prova de Matemática e suas Tecnologias"
   ],
   "metadata": {}
  },
  {
   "cell_type": "code",
   "execution_count": 19,
   "source": [
    "matrizes['MT']"
   ],
   "outputs": [
    {
     "output_type": "execute_result",
     "data": {
      "text/plain": [
       "{'titulo': 'Matriz de Referência de Matemática e suas Tecnologias',\n",
       " 'competencias': [{'id_competencia': '1',\n",
       "   'texto_competencia': 'Construir significados para os números naturais, inteiros, racionais e reais.'},\n",
       "  {'id_competencia': '2',\n",
       "   'texto_competencia': 'Utilizar o conhecimento geométrico para realizar a leitura e a representação da realidade e agir sobre ela.'},\n",
       "  {'id_competencia': '3',\n",
       "   'texto_competencia': 'Construir noções de grandezas e medidas para a compreensão da realidade e a solução de problemas do cotidiano.'},\n",
       "  {'id_competencia': '4',\n",
       "   'texto_competencia': 'Construir noções de variação de grandezas para a compreensão da realidade e a solução de problemas do cotidiano.'},\n",
       "  {'id_competencia': '5',\n",
       "   'texto_competencia': 'Modelar e resolver problemas que envolvem variáveis socioeconômicas ou técnico-científicas, usando representações algébricas.'},\n",
       "  {'id_competencia': '6',\n",
       "   'texto_competencia': 'Interpretar informações de natureza científica e social obtidas da leitura de gráficos e tabelas, realizando previsão de tendência, extrapolação, interpolação e interpretação.'},\n",
       "  {'id_competencia': '7',\n",
       "   'texto_competencia': 'Compreender o caráter aleatório e não-determinístico dos fenômenos naturais e sociais e utilizar instrumentos adequados para medidas, determinação de amostras e cálculos de probabilidade para interpretar informações de variáveis apresentadas em uma distribuição estatística.'}],\n",
       " 'habilidades': [{'id_habilidade': '1',\n",
       "   'texto_habilidade': 'Reconhecer, no contexto social, diferentes significados e representações dos números e operações - naturais, inteiros, racionais ou reais.',\n",
       "   'id_competencia': '1'},\n",
       "  {'id_habilidade': '2',\n",
       "   'texto_habilidade': 'Identificar padrões numéricos ou princípios de contagem.',\n",
       "   'id_competencia': '1'},\n",
       "  {'id_habilidade': '3',\n",
       "   'texto_habilidade': 'Resolver situação-problema envolvendo conhecimentos numéricos.',\n",
       "   'id_competencia': '1'},\n",
       "  {'id_habilidade': '4',\n",
       "   'texto_habilidade': 'Avaliar a razoabilidade de um resultado numérico na construção de argumentos sobre afirmações quantitativas.',\n",
       "   'id_competencia': '1'},\n",
       "  {'id_habilidade': '5',\n",
       "   'texto_habilidade': 'Avaliar propostas de intervenção na realidade utilizando conhecimentos numéricos.',\n",
       "   'id_competencia': '1'},\n",
       "  {'id_habilidade': '6',\n",
       "   'texto_habilidade': 'Interpretar a localização e a movimentação de pessoas/objetos no espaço tridimensional e sua representação no espaço bidimensional.',\n",
       "   'id_competencia': '2'},\n",
       "  {'id_habilidade': '7',\n",
       "   'texto_habilidade': 'Identificar características de figuras planas ou espaciais.',\n",
       "   'id_competencia': '2'},\n",
       "  {'id_habilidade': '8',\n",
       "   'texto_habilidade': 'Resolver situação-problema que envolva conhecimentos geométricos de espaço e forma.',\n",
       "   'id_competencia': '2'},\n",
       "  {'id_habilidade': '9',\n",
       "   'texto_habilidade': 'Utilizar conhecimentos geométricos de espaço e forma na seleção de argumentos propostos como solução de problemas do cotidiano.',\n",
       "   'id_competencia': '2'},\n",
       "  {'id_habilidade': '10',\n",
       "   'texto_habilidade': 'Identificar relações entre grandezas e unidades de medida.',\n",
       "   'id_competencia': '3'},\n",
       "  {'id_habilidade': '11',\n",
       "   'texto_habilidade': 'Utilizar a noção de escalas na leitura de representação de situação do cotidiano.',\n",
       "   'id_competencia': '3'},\n",
       "  {'id_habilidade': '12',\n",
       "   'texto_habilidade': 'Resolver situação-problema que envolva medidas de grandezas.',\n",
       "   'id_competencia': '3'},\n",
       "  {'id_habilidade': '13',\n",
       "   'texto_habilidade': 'Avaliar o resultado de uma medição na construção de um argumento consistente.',\n",
       "   'id_competencia': '3'},\n",
       "  {'id_habilidade': '14',\n",
       "   'texto_habilidade': 'Avaliar proposta de intervenção na realidade utilizando conhecimentos geométricos relacionados a grandezas e medidas.',\n",
       "   'id_competencia': '3'},\n",
       "  {'id_habilidade': '15',\n",
       "   'texto_habilidade': 'Identificar a relação de dependência entre grandezas.',\n",
       "   'id_competencia': '4'},\n",
       "  {'id_habilidade': '16',\n",
       "   'texto_habilidade': 'Resolver situação-problema envolvendo a variação de grandezas, direta ou inversamente proporcionais.',\n",
       "   'id_competencia': '4'},\n",
       "  {'id_habilidade': '17',\n",
       "   'texto_habilidade': 'Analisar informações envolvendo a variação de grandezas como recurso para a construção de argumentação.',\n",
       "   'id_competencia': '4'},\n",
       "  {'id_habilidade': '18',\n",
       "   'texto_habilidade': 'Avaliar propostas de intervenção na realidade envolvendo variação de grandezas.',\n",
       "   'id_competencia': '4'},\n",
       "  {'id_habilidade': '19',\n",
       "   'texto_habilidade': 'Identificar representações algébricas que expressem a relação entre grandezas.',\n",
       "   'id_competencia': '5'},\n",
       "  {'id_habilidade': '20',\n",
       "   'texto_habilidade': 'Interpretar gráfico cartesiano que represente relações entre grandezas.',\n",
       "   'id_competencia': '5'},\n",
       "  {'id_habilidade': '21',\n",
       "   'texto_habilidade': 'Resolver situação-problema cuja modelagem envolva conhecimentos algébricos.',\n",
       "   'id_competencia': '5'},\n",
       "  {'id_habilidade': '22',\n",
       "   'texto_habilidade': 'Utilizar conhecimentos algébricos/geométricos como recurso para a construção de argumentação.',\n",
       "   'id_competencia': '5'},\n",
       "  {'id_habilidade': '23',\n",
       "   'texto_habilidade': 'Avaliar propostas de intervenção na realidade utilizando conhecimentos algébricos.',\n",
       "   'id_competencia': '5'},\n",
       "  {'id_habilidade': '24',\n",
       "   'texto_habilidade': 'Utilizar informações expressas em gráficos ou tabelas para fazer inferências.',\n",
       "   'id_competencia': '6'},\n",
       "  {'id_habilidade': '25',\n",
       "   'texto_habilidade': 'Resolver problema com dados apresentados em tabelas ou gráficos.',\n",
       "   'id_competencia': '6'},\n",
       "  {'id_habilidade': '26',\n",
       "   'texto_habilidade': 'Analisar informações expressas em gráficos ou tabelas como recurso para a construção de argumentos.',\n",
       "   'id_competencia': '6'},\n",
       "  {'id_habilidade': '27',\n",
       "   'texto_habilidade': 'Calcular medidas de tendência central ou de dispersão de um conjunto de dados expressos em uma tabela de frequências de dados agrupados (não em classes) ou em gráficos.',\n",
       "   'id_competencia': '7'},\n",
       "  {'id_habilidade': '28',\n",
       "   'texto_habilidade': 'Resolver situação-problema que envolva conhecimentos de estatística e probabilidade.',\n",
       "   'id_competencia': '7'},\n",
       "  {'id_habilidade': '29',\n",
       "   'texto_habilidade': 'Utilizar conhecimentos de estatística e probabilidade como recurso para a construção de argumentação.',\n",
       "   'id_competencia': '7'},\n",
       "  {'id_habilidade': '30',\n",
       "   'texto_habilidade': 'Avaliar propostas de intervenção na realidade utilizando conhecimentos de estatística e probabilidade.',\n",
       "   'id_competencia': '7'}]}"
      ]
     },
     "metadata": {},
     "execution_count": 19
    }
   ],
   "metadata": {}
  },
  {
   "cell_type": "markdown",
   "source": [
    "Declarando uma função para imprimir apenas as competências da matriz"
   ],
   "metadata": {}
  },
  {
   "cell_type": "code",
   "execution_count": 20,
   "source": [
    "def imprimir_competencias(matriz: dict) -> None:\n",
    "    '''Imprime as competências da matriz de referência da prova passada como argumento'''\n",
    "    for competencia in matriz['competencias']:\n",
    "        print(f\"Competência de área {competencia['id_competencia']} - {competencia['texto_competencia']}\")"
   ],
   "outputs": [],
   "metadata": {}
  },
  {
   "cell_type": "markdown",
   "source": [
    "Imprimindo as competências da prova de Matemática e suas Tecnologias usando a função criada"
   ],
   "metadata": {}
  },
  {
   "cell_type": "code",
   "execution_count": 21,
   "source": [
    "imprimir_competencias(matrizes['MT'])"
   ],
   "outputs": [
    {
     "output_type": "stream",
     "name": "stdout",
     "text": [
      "Competência de área 1 - Construir significados para os números naturais, inteiros, racionais e reais.\n",
      "Competência de área 2 - Utilizar o conhecimento geométrico para realizar a leitura e a representação da realidade e agir sobre ela.\n",
      "Competência de área 3 - Construir noções de grandezas e medidas para a compreensão da realidade e a solução de problemas do cotidiano.\n",
      "Competência de área 4 - Construir noções de variação de grandezas para a compreensão da realidade e a solução de problemas do cotidiano.\n",
      "Competência de área 5 - Modelar e resolver problemas que envolvem variáveis socioeconômicas ou técnico-científicas, usando representações algébricas.\n",
      "Competência de área 6 - Interpretar informações de natureza científica e social obtidas da leitura de gráficos e tabelas, realizando previsão de tendência, extrapolação, interpolação e interpretação.\n",
      "Competência de área 7 - Compreender o caráter aleatório e não-determinístico dos fenômenos naturais e sociais e utilizar instrumentos adequados para medidas, determinação de amostras e cálculos de probabilidade para interpretar informações de variáveis apresentadas em uma distribuição estatística.\n"
     ]
    }
   ],
   "metadata": {}
  },
  {
   "cell_type": "markdown",
   "source": [
    "Declarando uma função para imprimir apenas as competências da matriz"
   ],
   "metadata": {}
  },
  {
   "cell_type": "code",
   "execution_count": 22,
   "source": [
    "def imprimir_habilidades(matriz: dict) -> None:\n",
    "    '''Imprime as habilidades da matriz de referência da prova'''\n",
    "    for habilidade in matriz['habilidades']:\n",
    "        print(f\"H{habilidade['id_habilidade']} - {habilidade['texto_habilidade']}\")"
   ],
   "outputs": [],
   "metadata": {}
  },
  {
   "cell_type": "markdown",
   "source": [
    "Imprimindo as habilidades da prova de Matemática e suas Tecnologias usando a função criada"
   ],
   "metadata": {}
  },
  {
   "cell_type": "code",
   "execution_count": 23,
   "source": [
    "imprimir_habilidades(matrizes['MT'])"
   ],
   "outputs": [
    {
     "output_type": "stream",
     "name": "stdout",
     "text": [
      "H1 - Reconhecer, no contexto social, diferentes significados e representações dos números e operações - naturais, inteiros, racionais ou reais.\n",
      "H2 - Identificar padrões numéricos ou princípios de contagem.\n",
      "H3 - Resolver situação-problema envolvendo conhecimentos numéricos.\n",
      "H4 - Avaliar a razoabilidade de um resultado numérico na construção de argumentos sobre afirmações quantitativas.\n",
      "H5 - Avaliar propostas de intervenção na realidade utilizando conhecimentos numéricos.\n",
      "H6 - Interpretar a localização e a movimentação de pessoas/objetos no espaço tridimensional e sua representação no espaço bidimensional.\n",
      "H7 - Identificar características de figuras planas ou espaciais.\n",
      "H8 - Resolver situação-problema que envolva conhecimentos geométricos de espaço e forma.\n",
      "H9 - Utilizar conhecimentos geométricos de espaço e forma na seleção de argumentos propostos como solução de problemas do cotidiano.\n",
      "H10 - Identificar relações entre grandezas e unidades de medida.\n",
      "H11 - Utilizar a noção de escalas na leitura de representação de situação do cotidiano.\n",
      "H12 - Resolver situação-problema que envolva medidas de grandezas.\n",
      "H13 - Avaliar o resultado de uma medição na construção de um argumento consistente.\n",
      "H14 - Avaliar proposta de intervenção na realidade utilizando conhecimentos geométricos relacionados a grandezas e medidas.\n",
      "H15 - Identificar a relação de dependência entre grandezas.\n",
      "H16 - Resolver situação-problema envolvendo a variação de grandezas, direta ou inversamente proporcionais.\n",
      "H17 - Analisar informações envolvendo a variação de grandezas como recurso para a construção de argumentação.\n",
      "H18 - Avaliar propostas de intervenção na realidade envolvendo variação de grandezas.\n",
      "H19 - Identificar representações algébricas que expressem a relação entre grandezas.\n",
      "H20 - Interpretar gráfico cartesiano que represente relações entre grandezas.\n",
      "H21 - Resolver situação-problema cuja modelagem envolva conhecimentos algébricos.\n",
      "H22 - Utilizar conhecimentos algébricos/geométricos como recurso para a construção de argumentação.\n",
      "H23 - Avaliar propostas de intervenção na realidade utilizando conhecimentos algébricos.\n",
      "H24 - Utilizar informações expressas em gráficos ou tabelas para fazer inferências.\n",
      "H25 - Resolver problema com dados apresentados em tabelas ou gráficos.\n",
      "H26 - Analisar informações expressas em gráficos ou tabelas como recurso para a construção de argumentos.\n",
      "H27 - Calcular medidas de tendência central ou de dispersão de um conjunto de dados expressos em uma tabela de frequências de dados agrupados (não em classes) ou em gráficos.\n",
      "H28 - Resolver situação-problema que envolva conhecimentos de estatística e probabilidade.\n",
      "H29 - Utilizar conhecimentos de estatística e probabilidade como recurso para a construção de argumentação.\n",
      "H30 - Avaliar propostas de intervenção na realidade utilizando conhecimentos de estatística e probabilidade.\n"
     ]
    }
   ],
   "metadata": {}
  },
  {
   "cell_type": "markdown",
   "source": [
    "Declarando uma função para imprimir a matriz completa"
   ],
   "metadata": {}
  },
  {
   "cell_type": "code",
   "execution_count": 24,
   "source": [
    "def imprimir_matriz_completa(matriz: dict) -> None:\n",
    "    '''Imprime a matriz de referência completa da prova'''\n",
    "    print(matriz['titulo'])\n",
    "    for competencia in matriz['competencias']:\n",
    "        print(f\"Competência de área {competencia['id_competencia']} - {competencia['texto_competencia']}\")\n",
    "        lista_habilidades = [habilidade for habilidade in matriz['habilidades'] if habilidade['id_competencia'] == competencia['id_competencia']]\n",
    "        for habilidade in lista_habilidades:\n",
    "            print(f\"H{habilidade['id_habilidade']} - {habilidade['texto_habilidade']}\")"
   ],
   "outputs": [],
   "metadata": {}
  },
  {
   "cell_type": "markdown",
   "source": [
    "Imprimindo a matriz completa da prova de Matemática e suas Tecnologias usando a função criada"
   ],
   "metadata": {}
  },
  {
   "cell_type": "code",
   "execution_count": 25,
   "source": [
    "imprimir_matriz_completa(matrizes['MT'])"
   ],
   "outputs": [
    {
     "output_type": "stream",
     "name": "stdout",
     "text": [
      "Matriz de Referência de Matemática e suas Tecnologias\n",
      "Competência de área 1 - Construir significados para os números naturais, inteiros, racionais e reais.\n",
      "H1 - Reconhecer, no contexto social, diferentes significados e representações dos números e operações - naturais, inteiros, racionais ou reais.\n",
      "H2 - Identificar padrões numéricos ou princípios de contagem.\n",
      "H3 - Resolver situação-problema envolvendo conhecimentos numéricos.\n",
      "H4 - Avaliar a razoabilidade de um resultado numérico na construção de argumentos sobre afirmações quantitativas.\n",
      "H5 - Avaliar propostas de intervenção na realidade utilizando conhecimentos numéricos.\n",
      "Competência de área 2 - Utilizar o conhecimento geométrico para realizar a leitura e a representação da realidade e agir sobre ela.\n",
      "H6 - Interpretar a localização e a movimentação de pessoas/objetos no espaço tridimensional e sua representação no espaço bidimensional.\n",
      "H7 - Identificar características de figuras planas ou espaciais.\n",
      "H8 - Resolver situação-problema que envolva conhecimentos geométricos de espaço e forma.\n",
      "H9 - Utilizar conhecimentos geométricos de espaço e forma na seleção de argumentos propostos como solução de problemas do cotidiano.\n",
      "Competência de área 3 - Construir noções de grandezas e medidas para a compreensão da realidade e a solução de problemas do cotidiano.\n",
      "H10 - Identificar relações entre grandezas e unidades de medida.\n",
      "H11 - Utilizar a noção de escalas na leitura de representação de situação do cotidiano.\n",
      "H12 - Resolver situação-problema que envolva medidas de grandezas.\n",
      "H13 - Avaliar o resultado de uma medição na construção de um argumento consistente.\n",
      "H14 - Avaliar proposta de intervenção na realidade utilizando conhecimentos geométricos relacionados a grandezas e medidas.\n",
      "Competência de área 4 - Construir noções de variação de grandezas para a compreensão da realidade e a solução de problemas do cotidiano.\n",
      "H15 - Identificar a relação de dependência entre grandezas.\n",
      "H16 - Resolver situação-problema envolvendo a variação de grandezas, direta ou inversamente proporcionais.\n",
      "H17 - Analisar informações envolvendo a variação de grandezas como recurso para a construção de argumentação.\n",
      "H18 - Avaliar propostas de intervenção na realidade envolvendo variação de grandezas.\n",
      "Competência de área 5 - Modelar e resolver problemas que envolvem variáveis socioeconômicas ou técnico-científicas, usando representações algébricas.\n",
      "H19 - Identificar representações algébricas que expressem a relação entre grandezas.\n",
      "H20 - Interpretar gráfico cartesiano que represente relações entre grandezas.\n",
      "H21 - Resolver situação-problema cuja modelagem envolva conhecimentos algébricos.\n",
      "H22 - Utilizar conhecimentos algébricos/geométricos como recurso para a construção de argumentação.\n",
      "H23 - Avaliar propostas de intervenção na realidade utilizando conhecimentos algébricos.\n",
      "Competência de área 6 - Interpretar informações de natureza científica e social obtidas da leitura de gráficos e tabelas, realizando previsão de tendência, extrapolação, interpolação e interpretação.\n",
      "H24 - Utilizar informações expressas em gráficos ou tabelas para fazer inferências.\n",
      "H25 - Resolver problema com dados apresentados em tabelas ou gráficos.\n",
      "H26 - Analisar informações expressas em gráficos ou tabelas como recurso para a construção de argumentos.\n",
      "Competência de área 7 - Compreender o caráter aleatório e não-determinístico dos fenômenos naturais e sociais e utilizar instrumentos adequados para medidas, determinação de amostras e cálculos de probabilidade para interpretar informações de variáveis apresentadas em uma distribuição estatística.\n",
      "H27 - Calcular medidas de tendência central ou de dispersão de um conjunto de dados expressos em uma tabela de frequências de dados agrupados (não em classes) ou em gráficos.\n",
      "H28 - Resolver situação-problema que envolva conhecimentos de estatística e probabilidade.\n",
      "H29 - Utilizar conhecimentos de estatística e probabilidade como recurso para a construção de argumentação.\n",
      "H30 - Avaliar propostas de intervenção na realidade utilizando conhecimentos de estatística e probabilidade.\n"
     ]
    }
   ],
   "metadata": {}
  },
  {
   "cell_type": "markdown",
   "source": [
    "## Salvando o objeto para usar em trabalhos futuros"
   ],
   "metadata": {}
  },
  {
   "cell_type": "markdown",
   "source": [
    "Inicializando o arquivo para salvar os dados"
   ],
   "metadata": {}
  },
  {
   "cell_type": "code",
   "execution_count": 26,
   "source": [
    "out_file = open(\"matrizes.json\", \"w\")"
   ],
   "outputs": [],
   "metadata": {}
  },
  {
   "cell_type": "markdown",
   "source": [
    "Salvando os dados no arquivo"
   ],
   "metadata": {}
  },
  {
   "cell_type": "code",
   "execution_count": 27,
   "source": [
    "dump(matrizes, out_file, indent=2)"
   ],
   "outputs": [],
   "metadata": {}
  },
  {
   "cell_type": "markdown",
   "source": [
    "Fechando o arquivo"
   ],
   "metadata": {}
  },
  {
   "cell_type": "code",
   "execution_count": 28,
   "source": [
    "out_file.close()"
   ],
   "outputs": [],
   "metadata": {}
  }
 ],
 "metadata": {
  "kernelspec": {
   "display_name": "Python 3",
   "language": "python",
   "name": "python3"
  },
  "language_info": {
   "codemirror_mode": {
    "name": "ipython",
    "version": 3
   },
   "file_extension": ".py",
   "mimetype": "text/x-python",
   "name": "python",
   "nbconvert_exporter": "python",
   "pygments_lexer": "ipython3",
   "version": "3.7.10"
  }
 },
 "nbformat": 4,
 "nbformat_minor": 4
}